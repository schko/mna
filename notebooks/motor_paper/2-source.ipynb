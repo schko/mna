{
 "cells": [
  {
   "cell_type": "markdown",
   "id": "f96671aa",
   "metadata": {},
   "source": [
    "# Analyze sessions in batch from Phase 1 of AdaDrive (work in progress)"
   ]
  },
  {
   "cell_type": "code",
   "execution_count": 1,
   "id": "261d0746",
   "metadata": {
    "collapsed": false,
    "jupyter": {
     "outputs_hidden": false
    }
   },
   "outputs": [
    {
     "name": "stdout",
     "output_type": "stream",
     "text": [
      "Using notebook 3d backend.\n",
      "\n"
     ]
    }
   ],
   "source": [
    "path_to_base_package = '../..'\n",
    "import sys\n",
    "# setting path\n",
    "sys.path.append(f\"{path_to_base_package}\")\n",
    "import mne\n",
    "mne.viz.set_3d_backend('notebook')\n",
    "mne.viz.set_3d_options(antialias=False) \n",
    "\n",
    "import json\n",
    "import seaborn as sns\n",
    "import matplotlib.pyplot as plt\n",
    "%matplotlib inline\n",
    "from mna.utils.data_access import *\n",
    "from mna.utils.analysis import *\n",
    "from mne.datasets import fetch_fsaverage\n",
    "import pickle\n",
    "\n",
    "# Download fsaverage files\n",
    "fs_dir = fetch_fsaverage(verbose=True)"
   ]
  },
  {
   "cell_type": "markdown",
   "id": "0c13166b",
   "metadata": {},
   "source": [
    "# Aux functions, read files"
   ]
  },
  {
   "cell_type": "code",
   "execution_count": 4,
   "id": "4608af72-c0ae-443f-9e53-b6cea0773f01",
   "metadata": {},
   "outputs": [
    {
     "name": "stdout",
     "output_type": "stream",
     "text": [
      "Reading labels from parcellation...\n",
      "   read 82 labels from /home/schko/mne_data/MNE-fsaverage-data/fsaverage/label/lh.PALS_B12_Brodmann.annot\n",
      "   read 46 labels from /home/schko/mne_data/MNE-fsaverage-data/fsaverage/label/rh.PALS_B12_Brodmann.annot\n",
      "reading participant-level motor data\n",
      "found cleaned epochs\n",
      "Adding metadata with 5 columns\n",
      "509 matching events found\n",
      "No baseline correction applied\n",
      "here\n"
     ]
    }
   ],
   "source": [
    "output_dir = f\"{path_to_base_package}/output/batch_analysis_motor/\"\n",
    "output_dir_non_baseline_non_average = f\"{path_to_base_package}/output/batch_analysis_motor/saved_files_non_baseline_non_average/\" # saved files directory (trial or motor)\n",
    "remove_sessions = [(15,1),(22,1)]\n",
    "rel_regions, all_region = get_relevant_channels()\n",
    "rel_labels, rel_mappings = get_relevant_labels_mappings(path_to_base_package)\n",
    "\n",
    "pupil_df = pd.read_csv(f\"{path_to_base_package}/output/pupil_exposure/participant_level_exposure_fits.csv\")\n",
    "trial_dfs = pd.read_csv(f\"{output_dir}all_results.csv\")\n",
    "motor_dfs = read_motor_csvs(output_dir)\n",
    "motor_dfs['post_steer_event_raw'] = motor_dfs['post_steer_event_raw'].apply(str_list_to_list)\n",
    "motor_epochs = get_motor_epochs(output_dir_non_baseline_non_average)\n",
    "#low_motor_sensor = motor_epochs[\"Steer_Wheel_Degree_Categorical == 'Low'\"]\n",
    "#high_motor_sensor = motor_epochs[\"Steer_Wheel_Degree_Categorical == 'High'\"]\n",
    "#low_pupil = motor_epochs[\"pupil_bin == '{}'\".format('low')]\n",
    "#high_pupil =motor_epochs[\"pupil_bin == '{}'\".format('high')]\n",
    "exposure_epochs = get_exposure_epochs(f\"{path_to_base_package}/output/exposure/exposure_epochs.pickle\")\n",
    "#low_motor_sensor.apply_proj()\n",
    "#high_motor_sensor.apply_proj()\n",
    "\n",
    "p_val_criteria = 0.05\n",
    "preturn = 1000"
   ]
  },
  {
   "cell_type": "markdown",
   "id": "36208051",
   "metadata": {
    "tags": []
   },
   "source": [
    "# Clean up dfs"
   ]
  },
  {
   "cell_type": "code",
   "execution_count": 7,
   "id": "18a9aafc-5532-4331-94fc-d568a049d0b8",
   "metadata": {},
   "outputs": [
    {
     "name": "stdout",
     "output_type": "stream",
     "text": [
      "removing ovlerlapping motor trials, starting epoch count 6291\n",
      "post removal epoch count 6218\n",
      "Replacing existing metadata with 75 columns\n",
      "Applying baseline correction (mode: mean)\n",
      "\\begin{tabular}{rrrr}\n",
      "\\toprule\n",
      " sub &  w\\_opacities &  const &  p\\_opacities \\\\\n",
      "\\midrule\n",
      "  20 &        -0.63 &   0.80 &         0.00 \\\\\n",
      "  14 &        -0.15 &   0.24 &         0.00 \\\\\n",
      "  12 &        -1.06 &   0.96 &         0.00 \\\\\n",
      "  22 &        -1.18 &   1.33 &         0.00 \\\\\n",
      "  16 &        -0.27 &   0.37 &         0.00 \\\\\n",
      "  18 &        -1.23 &   0.98 &         0.00 \\\\\n",
      "  19 &         0.34 &  -0.13 &         0.00 \\\\\n",
      "  21 &        -0.44 &   0.46 &         0.00 \\\\\n",
      "  15 &        -3.06 &   2.15 &         0.00 \\\\\n",
      "  13 &        -1.11 &   1.13 &         0.00 \\\\\n",
      "  23 &        -0.55 &   0.58 &         0.00 \\\\\n",
      "  17 &        -0.60 &   0.45 &         0.00 \\\\\n",
      "\\bottomrule\n",
      "\\end{tabular}\n",
      "\n"
     ]
    }
   ],
   "source": [
    "# seaborn\n",
    "import math \n",
    "sns.set(font_scale=1.2)\n",
    "sns.set_palette(\"tab10\")\n",
    "from mna.utils.batch_feature_extraction import clean_up_adadrive_trials\n",
    "\n",
    "motor_outlier_cols = ['abs_sum_delta_steer_input']\n",
    "cols_to_outlier_detect = ['bpm', 'sdnn', 'rmssd', 'pnn50']\n",
    "experimental_cols = ['spoken_difficulty', 'trial_duration', 'density', 'trial_damage']\n",
    "eye_cols = ['Left Pupil Diameter', \"NSLR_count_Fixation\", \"NSLR_count_Saccade\",\n",
    "            'NSLR_mean_duration_Fixation', 'NSLR_mean_duration_Saccade',\n",
    "            'NSLR_first_onset_Fixation', 'NSLR_first_onset_Saccade']\n",
    "ecg_cols = ['bpm', 'sdnn', 'rmssd', 'pnn50']  # rmssd = parasympathetic\n",
    "motor_cols = ['abs_sum_delta_steer_input', 'abs_sum_delta_brake_input', 'abs_sum_delta_throttle_input']\n",
    "def remove_motor_overlaps(test_df):\n",
    "    test_df = test_df.reset_index(drop=True)\n",
    "    trial_list = list(zip(test_df.trial_start_time, test_df.trial_end_time, test_df.index))\n",
    "    overlaps = []\n",
    "    for i in range(1,len(trial_list)):\n",
    "        base_data = trial_list[i]\n",
    "        check_data = trial_list[i-1]\n",
    "        if base_data[1] > check_data[0] and base_data[1] <= check_data[1]:\n",
    "            overlaps.append((base_data, check_data, base_data[1]-check_data[0], base_data[2], check_data[2]))\n",
    "            assert base_data[1]-check_data[0] != 1, 'Major issue, repeating trials found. Double check'\n",
    "    drop_rows = []\n",
    "    for overlap in overlaps:\n",
    "        row_1 = test_df.iloc[overlap[-1]]\n",
    "        row_2 = test_df.iloc[overlap[-2]]\n",
    "        if np.argmax([row_1.Abs_Steer_Wheel_Degree, row_2.Abs_Steer_Wheel_Degree]) == 0: # if row 1 has larger steer motion, drop the other\n",
    "            drop_rows.append(overlap[-2])\n",
    "        else:\n",
    "            drop_rows.append(overlap[-1])\n",
    "    test_df = test_df.drop(drop_rows,axis=0)\n",
    "    return test_df\n",
    "\n",
    "def clean_up_trials(input_df):\n",
    "    all_dfs_final = clean_up_adadrive_trials(input_df.copy())\n",
    "    # damage change\n",
    "    all_dfs_final = all_dfs_final.sort_values(by=['ppid', 'session', 'block', 'trial'])\n",
    "    # nan, outliers\n",
    "    #for col in motor_outlier_cols:\n",
    "    #    all_dfs_final[col] = all_dfs_final[col].mask(all_dfs_final[col].sub(all_dfs_final[col].mean()).div(all_dfs_final[col].std()).abs().gt(2))\n",
    "    #all_dfs_final['abs_sum_delta_brake_input'] = all_dfs_final['abs_sum_delta_brake_input'].mask(all_dfs_final['abs_sum_delta_brake_input']>.1)\n",
    "\n",
    "    all_dfs_final['NSLR_first_onset_Fixation'] = all_dfs_final['NSLR_first_onset_Fixation'] - all_dfs_final[\n",
    "        'trial_start_time']\n",
    "    all_dfs_final['NSLR_first_onset_Saccade'] = all_dfs_final['NSLR_first_onset_Saccade'] - all_dfs_final[\n",
    "        'trial_start_time']\n",
    "\n",
    "    all_dfs_final[\n",
    "        'throttle_over_brake'] = all_dfs_final.abs_sum_delta_throttle_input / all_dfs_final.abs_sum_delta_brake_input\n",
    "    return all_dfs_final\n",
    "\n",
    "\n",
    "trial_dfs = clean_up_trials(trial_dfs)\n",
    "trial_dfs = trial_dfs.loc[~trial_dfs.ppid_session.isin([f\"{es[0]}_{es[1]}\" for es in remove_sessions])]\n",
    "motor_dfs = clean_up_trials(motor_dfs)\n",
    "print(f\"removing ovlerlapping motor trials, starting epoch count {len(motor_dfs)}\")\n",
    "motor_dfs = remove_motor_overlaps(motor_dfs)\n",
    "print(f\"post removal epoch count {len(motor_dfs)}\")\n",
    "# luminance effect removal from pupil diameter\n",
    "trial_dfs['Raw Left Pupil Diameter'] = trial_dfs['Left Pupil Diameter']\n",
    "motor_dfs['Raw Left Pupil Diameter'] = motor_dfs['Left Pupil Diameter']\n",
    "trial_dfs = trial_dfs.reset_index(drop=True)\n",
    "adjustments=[]\n",
    "for index, row in trial_dfs.iloc[1:].iterrows():\n",
    "    last_ppid = trial_dfs.iloc[index - 1].ppid\n",
    "    last_session = trial_dfs.iloc[index - 1].session\n",
    "    last_trial = trial_dfs.iloc[index - 1].trial\n",
    "    last_opacity = trial_dfs.iloc[index - 1].density\n",
    "    if ((row.ppid == last_ppid) & (row.session == last_session) & (row.trial == last_trial + 1)):  # if continuous\n",
    "        # if there is a significant effect of opacity on pupil\n",
    "        if pupil_df.loc[pupil_df['sub'] == last_ppid, 'p_opacities'].values < p_val_criteria:\n",
    "            this_opacity = row.density\n",
    "            this_pupil_diameter = row['Left Pupil Diameter']\n",
    "            weight = pupil_df.loc[pupil_df['sub'] == last_ppid, 'w_opacities']\n",
    "            adjustment = ((this_opacity - last_opacity) * weight).values[0]\n",
    "            trial_dfs.iloc[index, trial_dfs.columns.get_loc('Left Pupil Diameter')] += adjustment\n",
    "            # this needs to be converted to array b/c of pandas issues\n",
    "            old_pupil_value = np.array(motor_dfs.loc[(motor_dfs.ppid == last_ppid) & (motor_dfs.session == last_session) & (\n",
    "                        motor_dfs.trial == last_trial + 1), 'Left Pupil Diameter']) \n",
    "            motor_dfs.loc[(motor_dfs.ppid == last_ppid) & (motor_dfs.session == last_session) & (\n",
    "                        motor_dfs.trial == last_trial + 1), 'Left Pupil Diameter'] = (old_pupil_value-adjustment).T  # update motor df too\n",
    "            # do also for motor_epochs\n",
    "            old_pupil_value = motor_epochs.metadata.loc[(motor_epochs.metadata.ppid == last_ppid) &\n",
    "                                      (motor_epochs.metadata.session == last_session) &\n",
    "                                      (motor_epochs.metadata.trial == last_trial + 1), 'Left Pupil Diameter']\n",
    "            motor_epochs.metadata.loc[(motor_epochs.metadata.ppid == last_ppid) &\n",
    "                                      (motor_epochs.metadata.session == last_session) &\n",
    "                                      (motor_epochs.metadata.trial == last_trial + 1), 'Left Pupil Diameter'] = (old_pupil_value-adjustment).T\n",
    "# pupil bins\n",
    "motor_dfs['pupil_bin'] = motor_dfs.groupby(['ppid'])['Left Pupil Diameter'].transform(\n",
    "    lambda x: pd.qcut(x, 2, labels=['low', 'high']))\n",
    "trial_dfs['pupil_bin'] = trial_dfs.groupby(['ppid'])['Left Pupil Diameter'].transform(\n",
    "    lambda x: pd.qcut(x, 2, labels=['low', 'high']))\n",
    "motor_epochs.metadata['pupil_bin'] = motor_epochs.metadata.groupby(['ppid'])['Left Pupil Diameter'].transform(\n",
    "    lambda x: pd.qcut(x, 2, labels=['low', 'high']))\n",
    "motor_dfs['pupil_bin_encoded'] = motor_dfs.groupby(['ppid'])['Left Pupil Diameter'].transform(\n",
    "    lambda x: pd.qcut(x, 2, labels=[0, 1]))\n",
    "trial_dfs['pupil_bin_encoded'] = trial_dfs.groupby(['ppid'])['Left Pupil Diameter'].transform(\n",
    "    lambda x: pd.qcut(x, 2, labels=[0, 1]))\n",
    "motor_epochs.metadata['pupil_bin_encoded'] = motor_epochs.metadata.groupby(['ppid'])['Left Pupil Diameter'].transform(\n",
    "    lambda x: pd.qcut(x, 2, labels=[0, 1]))\n",
    "\n",
    "\n",
    "# participant-level binning of motor data, replaces the session-level info already there\n",
    "motor_dfs = get_motor_intensity_info(motor_dfs)\n",
    "motor_epochs.metadata = get_motor_intensity_info(motor_epochs.metadata)\n",
    "\n",
    "\n",
    "# ensure that epochs that removed from motor epochs are also removed from EEG analysis (we don't do the reverse since we have non-eeg, usable data)\n",
    "df_all = motor_epochs.metadata[['ppid', 'session', 'block', 'trial']].merge(motor_dfs[['ppid', 'session', 'block', 'trial']].drop_duplicates(), on=['ppid', 'session', 'block', 'trial'], \n",
    "                   how='inner', indicator=True)\n",
    "i1 = motor_epochs.metadata.set_index(['ppid', 'session', 'block', 'trial']).index\n",
    "i2 = df_all.set_index(['ppid', 'session', 'block', 'trial']).index\n",
    "motor_epochs = motor_epochs[i1.isin(i2)]\n",
    "# motor_epochs.set_eeg_reference('average') # custom eeg reference is not allowed for MNE source modeling\n",
    "motor_epochs.apply_baseline((-((preturn+250) / 1000), -((preturn) / 1000)))\n",
    "\n",
    "print(pupil_df[['sub','w_opacities','const','p_opacities']].to_latex(index=False,float_format=\"{:0.2f}\".format))"
   ]
  },
  {
   "cell_type": "markdown",
   "id": "94072f52",
   "metadata": {},
   "source": [
    "# eLORETA"
   ]
  },
  {
   "cell_type": "markdown",
   "id": "93d6d686",
   "metadata": {},
   "source": [
    "## Load forward model, create inverse operator"
   ]
  },
  {
   "cell_type": "code",
   "execution_count": 8,
   "id": "a2b4e603",
   "metadata": {},
   "outputs": [
    {
     "name": "stdout",
     "output_type": "stream",
     "text": [
      "Source space          : /home/schko/mne_data/MNE-fsaverage-data/fsaverage/bem/fsaverage-ico-5-src.fif\n",
      "MRI -> head transform : /opt/conda/envs/mna/lib/python3.10/site-packages/mne/data/fsaverage/fsaverage-trans.fif\n",
      "Measurement data      : instance of Info\n",
      "Conductor model   : /home/schko/mne_data/MNE-fsaverage-data/fsaverage/bem/fsaverage-5120-5120-5120-bem-sol.fif\n",
      "Accurate field computations\n",
      "Do computations in head coordinates\n",
      "Free source orientations\n",
      "\n",
      "Reading /home/schko/mne_data/MNE-fsaverage-data/fsaverage/bem/fsaverage-ico-5-src.fif...\n",
      "Read 2 source spaces a total of 20484 active source locations\n",
      "\n",
      "Coordinate transformation: MRI (surface RAS) -> head\n",
      "     0.999994  0.003552  0.000202      -1.76 mm\n",
      "    -0.003558  0.998389  0.056626      31.09 mm\n",
      "    -0.000001 -0.056626  0.998395      39.60 mm\n",
      "     0.000000  0.000000  0.000000       1.00\n",
      "\n",
      "Read  64 EEG channels from info\n",
      "Head coordinate coil definitions created.\n",
      "Source spaces are now in head coordinates.\n",
      "\n",
      "Setting up the BEM model using /home/schko/mne_data/MNE-fsaverage-data/fsaverage/bem/fsaverage-5120-5120-5120-bem-sol.fif...\n",
      "\n",
      "Loading surfaces...\n",
      "\n",
      "Loading the solution matrix...\n",
      "\n",
      "Three-layer model surfaces loaded.\n",
      "Loaded linear collocation BEM solution from /home/schko/mne_data/MNE-fsaverage-data/fsaverage/bem/fsaverage-5120-5120-5120-bem-sol.fif\n",
      "Employing the head->MRI coordinate transform with the BEM model.\n",
      "BEM model fsaverage-5120-5120-5120-bem-sol.fif is now set up\n",
      "\n",
      "Source spaces are in head coordinates.\n",
      "Checking that the sources are inside the surface (will take a few...)\n",
      "Checking surface interior status for 10242 points...\n",
      "    Found  2433/10242 points inside  an interior sphere of radius   47.7 mm\n",
      "    Found     0/10242 points outside an exterior sphere of radius   98.3 mm\n",
      "    Found     0/ 7809 points outside using surface Qhull\n"
     ]
    },
    {
     "name": "stderr",
     "output_type": "stream",
     "text": [
      "[Parallel(n_jobs=1)]: Using backend SequentialBackend with 1 concurrent workers.\n"
     ]
    },
    {
     "name": "stdout",
     "output_type": "stream",
     "text": [
      "    Found     0/ 7809 points outside using solid angles\n",
      "    Total 10242/10242 points inside the surface\n",
      "Interior check completed in 12844.7 ms\n",
      "Checking surface interior status for 10242 points...\n",
      "    Found  2241/10242 points inside  an interior sphere of radius   47.7 mm\n",
      "    Found     0/10242 points outside an exterior sphere of radius   98.3 mm\n",
      "    Found     0/ 8001 points outside using surface Qhull\n"
     ]
    },
    {
     "name": "stderr",
     "output_type": "stream",
     "text": [
      "[Parallel(n_jobs=1)]: Done   1 out of   1 | elapsed:   12.8s remaining:    0.0s\n",
      "[Parallel(n_jobs=1)]: Done   1 out of   1 | elapsed:   12.8s finished\n",
      "[Parallel(n_jobs=1)]: Using backend SequentialBackend with 1 concurrent workers.\n"
     ]
    },
    {
     "name": "stdout",
     "output_type": "stream",
     "text": [
      "    Found     0/ 8001 points outside using solid angles\n",
      "    Total 10242/10242 points inside the surface\n",
      "Interior check completed in 5276.3 ms\n",
      "\n",
      "Setting up for EEG...\n"
     ]
    },
    {
     "name": "stderr",
     "output_type": "stream",
     "text": [
      "[Parallel(n_jobs=1)]: Done   1 out of   1 | elapsed:    5.3s remaining:    0.0s\n",
      "[Parallel(n_jobs=1)]: Done   1 out of   1 | elapsed:    5.3s finished\n"
     ]
    },
    {
     "name": "stdout",
     "output_type": "stream",
     "text": [
      "Computing EEG at 20484 source locations (free orientations)...\n"
     ]
    },
    {
     "name": "stderr",
     "output_type": "stream",
     "text": [
      "[Parallel(n_jobs=1)]: Using backend SequentialBackend with 1 concurrent workers.\n"
     ]
    },
    {
     "name": "stdout",
     "output_type": "stream",
     "text": [
      "\n",
      "Finished.\n"
     ]
    },
    {
     "name": "stderr",
     "output_type": "stream",
     "text": [
      "[Parallel(n_jobs=1)]: Done   1 out of   1 | elapsed:   17.9s remaining:    0.0s\n",
      "[Parallel(n_jobs=1)]: Done   1 out of   1 | elapsed:   17.9s finished\n"
     ]
    }
   ],
   "source": [
    "\n",
    "subjects_dir = os.path.dirname(fs_dir)\n",
    "\n",
    "# The files live in:\n",
    "subject = 'fsaverage'\n",
    "trans = 'fsaverage'  # MNE has a built-in fsaverage transformation\n",
    "'''\n",
    "select the boundary element model, note that the source data has been downsampled by a factor of 5 \n",
    "(i.e. ico == 5, https://mne.tools/stable/generated/mne.setup_source_space.html#mne.setup_source_space)\n",
    "and the BEM has been downsampled by a factor of 5 (i.e. ico == 4, see here: https://mne.tools/stable/generated/mne.make_bem_model.html)\n",
    "implications here: https://brainder.org/2016/05/31/downsampling-decimating-a-brain-surface/\n",
    "'''\n",
    "src_fname = os.path.join(fs_dir, 'bem', 'fsaverage-ico-5-src.fif')\n",
    "bem = os.path.join(fs_dir, 'bem', 'fsaverage-5120-5120-5120-bem-sol.fif')\n",
    "\n",
    "eeg_montage='biosemi64'\n",
    "info = motor_epochs.info\n",
    "\n",
    "# Read and set the EEG electrode locations, which are already in fsaverage's\n",
    "# space (MNI space) for standard_1020:\n",
    "montage = mne.channels.make_standard_montage(eeg_montage)\n",
    "\n",
    "# Check that the locations of EEG electrodes is correct with respect to MRI\n",
    "#mne.viz.plot_alignment(\n",
    "#    info, src=src_fname, eeg=['original', 'projected'], trans=trans,\n",
    "#    show_axes=False, mri_fiducials=True, dig='fiducials')\n",
    "fwd = mne.make_forward_solution(info, trans=trans, src=src_fname,\n",
    "                                bem=bem, eeg=True, n_jobs=None)"
   ]
  },
  {
   "cell_type": "code",
   "execution_count": 9,
   "id": "b9bbd6eb",
   "metadata": {
    "scrolled": true
   },
   "outputs": [
    {
     "name": "stdout",
     "output_type": "stream",
     "text": [
      "Computing rank from data with rank=None\n",
      "    Using tolerance 6.1e-07 (2.2e-16 eps * 64 dim * 4.3e+07  max singular value)\n",
      "    Estimated rank (eeg): 64\n",
      "    EEG: rank 64 computed from 64 data channels with 0 projectors\n",
      "Reducing data rank from 64 -> 64\n",
      "Estimating covariance using SHRUNK\n",
      "Done.\n",
      "Estimating covariance using DIAGONAL_FIXED\n",
      "    EEG regularization : 0.1\n",
      "Done.\n",
      "Estimating covariance using EMPIRICAL\n",
      "Done.\n",
      "Using cross-validation to select the best estimator.\n",
      "    EEG regularization : 0.1\n",
      "    EEG regularization : 0.1\n",
      "    EEG regularization : 0.1\n",
      "Number of samples used : 326269\n",
      "log-likelihood on unseen data (descending order):\n",
      "   shrunk: -706.964\n",
      "   diagonal_fixed: -794.575\n",
      "   empirical: -338786.930\n",
      "selecting best estimator: shrunk\n",
      "[done]\n",
      "Computing rank from covariance with rank=None\n",
      "    Using tolerance 2.4e-07 (2.2e-16 eps * 64 dim * 1.7e+07  max singular value)\n",
      "    Estimated rank (eeg): 64\n",
      "    EEG: rank 64 computed from 64 data channels with 0 projectors\n"
     ]
    },
    {
     "data": {
      "image/png": "[encoded data removed]",
      "text/plain": [
       "<Figure size 380x370 with 2 Axes>"
      ]
     },
     "metadata": {},
     "output_type": "display_data"
    },
    {
     "data": {
      "image/png": "[encoded data removed]",
      "text/plain": [
       "<Figure size 380x370 with 1 Axes>"
      ]
     },
     "metadata": {},
     "output_type": "display_data"
    },
    {
     "name": "stdout",
     "output_type": "stream",
     "text": [
      "Converting forward solution to surface orientation\n",
      "    No patch info available. The standard source space normals will be employed in the rotation to the local surface coordinates....\n",
      "    Converting to surface-based source orientations...\n",
      "    [done]\n",
      "Computing inverse operator with 64 channels.\n",
      "    64 out of 64 channels remain after picking\n",
      "Selected 64 channels\n",
      "Creating the depth weighting matrix...\n",
      "    64 EEG channels\n",
      "    limit = 20485/20484 = 2.329337\n",
      "    scale = 108975 exp = 0.8\n",
      "Applying loose dipole orientations to surface source spaces: 0.2\n",
      "Whitening the forward solution.\n",
      "    Created an SSP operator (subspace dimension = 1)\n",
      "Computing rank from covariance with rank=None\n",
      "    Using tolerance 2.2e-07 (2.2e-16 eps * 64 dim * 1.5e+07  max singular value)\n",
      "    Estimated rank (eeg): 63\n",
      "    EEG: rank 63 computed from 64 data channels with 1 projector\n",
      "    Setting small EEG eigenvalues to zero (without PCA)\n",
      "Creating the source covariance matrix\n",
      "Adjusting source covariance matrix.\n",
      "Computing SVD of whitened and weighted lead field matrix.\n",
      "    largest singular value = 4.66034\n",
      "    scaling factor to adjust the trace = 1.26231e+13 (nchan = 64 nzero = 1)\n"
     ]
    }
   ],
   "source": [
    "method = \"eLORETA\"\n",
    "snr = 3.\n",
    "lambda2 = 1. / snr ** 2\n",
    "cov = mne.compute_covariance(exposure_epochs, method='auto') # note this is not average referenced\n",
    "cov.plot(exposure_epochs.info)\n",
    "inverse_operator = mne.minimum_norm.make_inverse_operator(\n",
    "    info, fwd, cov)\n",
    "#low_motor = get_forward_results(output_dir, 'low',low_motor_sensor,inverse_operator,fwd, lambda2)\n",
    "#high_motor = get_forward_results(output_dir, 'high',high_motor_sensor,inverse_operator,fwd, lambda2)"
   ]
  },
  {
   "cell_type": "code",
   "execution_count": 10,
   "id": "34e539a2-0700-46be-b589-37843271337b",
   "metadata": {},
   "outputs": [
    {
     "name": "stdout",
     "output_type": "stream",
     "text": [
      "bin 0\n"
     ]
    },
    {
     "ename": "KeyboardInterrupt",
     "evalue": "",
     "output_type": "error",
     "traceback": [
      "\u001b[0;31m---------------------------------------------------------------------------\u001b[0m",
      "\u001b[0;31mKeyboardInterrupt\u001b[0m                         Traceback (most recent call last)",
      "Cell \u001b[0;32mIn[10], line 23\u001b[0m\n\u001b[1;32m     21\u001b[0m             pickle\u001b[39m.\u001b[39mdump(all_tcs, handle_ica, protocol\u001b[39m=\u001b[39mpickle\u001b[39m.\u001b[39mHIGHEST_PROTOCOL)\n\u001b[1;32m     22\u001b[0m     \u001b[39mreturn\u001b[39;00m np\u001b[39m.\u001b[39mconcatenate(all_tcs)\n\u001b[0;32m---> 23\u001b[0m all_tcs \u001b[39m=\u001b[39m get_all_tcs(output_dir_non_baseline_non_average,overwrite\u001b[39m=\u001b[39;49m\u001b[39mFalse\u001b[39;49;00m)\n\u001b[1;32m     24\u001b[0m \u001b[39massert\u001b[39;00m \u001b[39mlen\u001b[39m(all_tcs) \u001b[39m==\u001b[39m \u001b[39mlen\u001b[39m(motor_epochs), \u001b[39m'\u001b[39m\u001b[39mthe source data is not the same size as the motor_epochs, check this issue\u001b[39m\u001b[39m'\u001b[39m\n",
      "Cell \u001b[0;32mIn[10], line 12\u001b[0m, in \u001b[0;36mget_all_tcs\u001b[0;34m(output_dir, overwrite)\u001b[0m\n\u001b[1;32m     10\u001b[0m \u001b[39mwhile\u001b[39;00m count\u001b[39m*\u001b[39mbin_size \u001b[39m<\u001b[39m\u001b[39m=\u001b[39m \u001b[39mlen\u001b[39m(motor_epochs):\n\u001b[1;32m     11\u001b[0m     \u001b[39mprint\u001b[39m(\u001b[39m'\u001b[39m\u001b[39mbin\u001b[39m\u001b[39m'\u001b[39m,count)\n\u001b[0;32m---> 12\u001b[0m     stcs \u001b[39m=\u001b[39m mne\u001b[39m.\u001b[39;49mminimum_norm\u001b[39m.\u001b[39;49mapply_inverse_epochs(motor_epochs[count\u001b[39m*\u001b[39;49mbin_size:(count\u001b[39m+\u001b[39;49m\u001b[39m1\u001b[39;49m)\u001b[39m*\u001b[39;49mbin_size], inverse_operator,\n\u001b[1;32m     13\u001b[0m                                 lambda2\u001b[39m=\u001b[39;49m\u001b[39m1.0\u001b[39;49m \u001b[39m/\u001b[39;49m snr \u001b[39m*\u001b[39;49m\u001b[39m*\u001b[39;49m \u001b[39m2\u001b[39;49m, verbose\u001b[39m=\u001b[39;49m\u001b[39mFalse\u001b[39;49;00m,\n\u001b[1;32m     14\u001b[0m                                 method\u001b[39m=\u001b[39;49m\u001b[39m\"\u001b[39;49m\u001b[39meLORETA\u001b[39;49m\u001b[39m\"\u001b[39;49m) \u001b[39m# , pick_ori=\"normal\"?\u001b[39;00m\n\u001b[1;32m     15\u001b[0m     tcs \u001b[39m=\u001b[39m mne\u001b[39m.\u001b[39mextract_label_time_course(stcs, rel_labels, src\u001b[39m=\u001b[39mfwd[\u001b[39m'\u001b[39m\u001b[39msrc\u001b[39m\u001b[39m'\u001b[39m], mode\u001b[39m=\u001b[39mmode,verbose\u001b[39m=\u001b[39m\u001b[39mFalse\u001b[39;00m)\n\u001b[1;32m     16\u001b[0m     all_tcs\u001b[39m.\u001b[39mappend(tcs)\n",
      "File \u001b[0;32m<decorator-gen-489>:10\u001b[0m, in \u001b[0;36mapply_inverse_epochs\u001b[0;34m(epochs, inverse_operator, lambda2, method, label, nave, pick_ori, return_generator, prepared, method_params, use_cps, verbose)\u001b[0m\n",
      "File \u001b[0;32m/opt/conda/envs/mna/lib/python3.10/site-packages/mne/minimum_norm/inverse.py:1291\u001b[0m, in \u001b[0;36mapply_inverse_epochs\u001b[0;34m(epochs, inverse_operator, lambda2, method, label, nave, pick_ori, return_generator, prepared, method_params, use_cps, verbose)\u001b[0m\n\u001b[1;32m   1284\u001b[0m stcs \u001b[39m=\u001b[39m _apply_inverse_epochs_gen(\n\u001b[1;32m   1285\u001b[0m     epochs, inverse_operator, lambda2, method\u001b[39m=\u001b[39mmethod, label\u001b[39m=\u001b[39mlabel,\n\u001b[1;32m   1286\u001b[0m     nave\u001b[39m=\u001b[39mnave, pick_ori\u001b[39m=\u001b[39mpick_ori, verbose\u001b[39m=\u001b[39mverbose, prepared\u001b[39m=\u001b[39mprepared,\n\u001b[1;32m   1287\u001b[0m     method_params\u001b[39m=\u001b[39mmethod_params, use_cps\u001b[39m=\u001b[39muse_cps)\n\u001b[1;32m   1289\u001b[0m \u001b[39mif\u001b[39;00m \u001b[39mnot\u001b[39;00m return_generator:\n\u001b[1;32m   1290\u001b[0m     \u001b[39m# return a list\u001b[39;00m\n\u001b[0;32m-> 1291\u001b[0m     stcs \u001b[39m=\u001b[39m [stc \u001b[39mfor\u001b[39;00m stc \u001b[39min\u001b[39;00m stcs]\n\u001b[1;32m   1293\u001b[0m \u001b[39mreturn\u001b[39;00m stcs\n",
      "File \u001b[0;32m/opt/conda/envs/mna/lib/python3.10/site-packages/mne/minimum_norm/inverse.py:1291\u001b[0m, in \u001b[0;36m<listcomp>\u001b[0;34m(.0)\u001b[0m\n\u001b[1;32m   1284\u001b[0m stcs \u001b[39m=\u001b[39m _apply_inverse_epochs_gen(\n\u001b[1;32m   1285\u001b[0m     epochs, inverse_operator, lambda2, method\u001b[39m=\u001b[39mmethod, label\u001b[39m=\u001b[39mlabel,\n\u001b[1;32m   1286\u001b[0m     nave\u001b[39m=\u001b[39mnave, pick_ori\u001b[39m=\u001b[39mpick_ori, verbose\u001b[39m=\u001b[39mverbose, prepared\u001b[39m=\u001b[39mprepared,\n\u001b[1;32m   1287\u001b[0m     method_params\u001b[39m=\u001b[39mmethod_params, use_cps\u001b[39m=\u001b[39muse_cps)\n\u001b[1;32m   1289\u001b[0m \u001b[39mif\u001b[39;00m \u001b[39mnot\u001b[39;00m return_generator:\n\u001b[1;32m   1290\u001b[0m     \u001b[39m# return a list\u001b[39;00m\n\u001b[0;32m-> 1291\u001b[0m     stcs \u001b[39m=\u001b[39m [stc \u001b[39mfor\u001b[39;00m stc \u001b[39min\u001b[39;00m stcs]\n\u001b[1;32m   1293\u001b[0m \u001b[39mreturn\u001b[39;00m stcs\n",
      "File \u001b[0;32m/opt/conda/envs/mna/lib/python3.10/site-packages/mne/minimum_norm/inverse.py:1213\u001b[0m, in \u001b[0;36m_apply_inverse_epochs_gen\u001b[0;34m(epochs, inverse_operator, lambda2, method, label, nave, pick_ori, prepared, method_params, use_cps, verbose)\u001b[0m\n\u001b[1;32m   1211\u001b[0m \u001b[39mif\u001b[39;00m pick_ori \u001b[39m!=\u001b[39m \u001b[39m'\u001b[39m\u001b[39mvector\u001b[39m\u001b[39m'\u001b[39m:\n\u001b[1;32m   1212\u001b[0m     logger\u001b[39m.\u001b[39minfo(\u001b[39m'\u001b[39m\u001b[39mcombining the current components...\u001b[39m\u001b[39m'\u001b[39m)\n\u001b[0;32m-> 1213\u001b[0m     sol \u001b[39m=\u001b[39m combine_xyz(sol)\n\u001b[1;32m   1215\u001b[0m \u001b[39mif\u001b[39;00m noise_norm \u001b[39mis\u001b[39;00m \u001b[39mnot\u001b[39;00m \u001b[39mNone\u001b[39;00m:\n\u001b[1;32m   1216\u001b[0m     sol \u001b[39m*\u001b[39m\u001b[39m=\u001b[39m noise_norm\n",
      "File \u001b[0;32m/opt/conda/envs/mna/lib/python3.10/site-packages/mne/minimum_norm/inverse.py:506\u001b[0m, in \u001b[0;36mcombine_xyz\u001b[0;34m(vec, square)\u001b[0m\n\u001b[1;32m    504\u001b[0m comb \u001b[39m+\u001b[39m\u001b[39m=\u001b[39m vec[\u001b[39m2\u001b[39m::\u001b[39m3\u001b[39m] \u001b[39m*\u001b[39m\u001b[39m*\u001b[39m \u001b[39m2\u001b[39m\n\u001b[1;32m    505\u001b[0m \u001b[39mif\u001b[39;00m \u001b[39mnot\u001b[39;00m square:\n\u001b[0;32m--> 506\u001b[0m     comb \u001b[39m=\u001b[39m np\u001b[39m.\u001b[39;49msqrt(comb)\n\u001b[1;32m    507\u001b[0m \u001b[39mreturn\u001b[39;00m comb\n",
      "\u001b[0;31mKeyboardInterrupt\u001b[0m: "
     ]
    }
   ],
   "source": [
    "def get_all_tcs(output_dir, overwrite=False):\n",
    "    if not overwrite and os.path.isfile(f\"{output_dir}source_time_courses.pickle\"):\n",
    "        all_tcs = pickle.load(open(f\"{output_dir}source_time_courses.pickle\", 'rb'))\n",
    "        return np.concatenate(all_tcs)\n",
    "    else:\n",
    "        bin_size = 500 # number of sources to compute in batch\n",
    "        mode = 'mean'\n",
    "        count = 0\n",
    "        all_tcs=[]\n",
    "        while count*bin_size <= len(motor_epochs):\n",
    "            print('bin',count)\n",
    "            stcs = mne.minimum_norm.apply_inverse_epochs(motor_epochs[count*bin_size:(count+1)*bin_size], inverse_operator,\n",
    "                                        lambda2=1.0 / snr ** 2, verbose=False,\n",
    "                                        method=\"eLORETA\") # , pick_ori=\"normal\"?\n",
    "            tcs = mne.extract_label_time_course(stcs, rel_labels, src=fwd['src'], mode=mode,verbose=False)\n",
    "            all_tcs.append(tcs)\n",
    "            count += 1\n",
    "        # plot the last time course\n",
    "        plot_source_time_course(ltc=tcs[0], orig_stc=stcs[0], label=rel_labels[0], mode = 'mean',rel_mappings=rel_mappings)\n",
    "        with open(f\"{output_dir}source_time_courses.pickle\", 'wb') as handle_ica:\n",
    "            pickle.dump(all_tcs, handle_ica, protocol=pickle.HIGHEST_PROTOCOL)\n",
    "    return np.concatenate(all_tcs)\n",
    "all_tcs = get_all_tcs(output_dir_non_baseline_non_average,overwrite=False)\n",
    "assert len(all_tcs) == len(motor_epochs), 'the source data is not the same size as the motor_epochs, check this issue'\n"
   ]
  },
  {
   "cell_type": "code",
   "execution_count": 6,
   "id": "fc341f57",
   "metadata": {
    "collapsed": false,
    "jupyter": {
     "outputs_hidden": false
    }
   },
   "outputs": [],
   "source": []
  }
 ],
 "metadata": {
  "environment": {
   "kernel": "python3",
   "name": "common-cpu.m95",
   "type": "gcloud",
   "uri": "gcr.io/deeplearning-platform-release/base-cpu:m95"
  },
  "kernelspec": {
   "display_name": "mna",
   "language": "python",
   "name": "python3"
  },
  "language_info": {
   "codemirror_mode": {
    "name": "ipython",
    "version": 3
   },
   "file_extension": ".py",
   "mimetype": "text/x-python",
   "name": "python",
   "nbconvert_exporter": "python",
   "pygments_lexer": "ipython3",
   "version": "3.10.8"
  },
  "vscode": {
   "interpreter": {
    "hash": "967869b3d3e599d39c4e482f6852385da2dcc34e629cb6c89bbd952eba61abed"
   }
  }
 },
 "nbformat": 4,
 "nbformat_minor": 5
}
