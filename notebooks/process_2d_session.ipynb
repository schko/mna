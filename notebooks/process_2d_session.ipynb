{
 "cells": [
  {
   "cell_type": "markdown",
   "id": "73a24ae0",
   "metadata": {
    "pycharm": {
     "name": "#%% md\n"
    }
   },
   "source": [
    "# Trial analysis from an simple excel"
   ]
  },
  {
   "cell_type": "markdown",
   "source": [
    "## Visualize the required format for the xlsx file"
   ],
   "metadata": {
    "collapsed": false,
    "pycharm": {
     "name": "#%% md\n"
    }
   }
  },
  {
   "cell_type": "markdown",
   "source": [
    "MNA requires at least a three columns, `x` (in screen coordinates), `y` (in screen coordinates) and `time` (in seconds)"
   ],
   "metadata": {
    "collapsed": false,
    "pycharm": {
     "name": "#%% md\n"
    }
   }
  },
  {
   "cell_type": "code",
   "execution_count": 1,
   "outputs": [
    {
     "data": {
      "text/plain": "   pupil   time  trial       x       y\n0    663 -91761      1  1608.6  2670.4\n1    693 -91759      1  1567.6  2541.9\n2    695 -91757      1  1529.2  2406.5\n3    694 -91755      1  1488.5  2273.6\n4    697 -91753      1  1454.7  2170.3",
      "text/html": "<div>\n<style scoped>\n    .dataframe tbody tr th:only-of-type {\n        vertical-align: middle;\n    }\n\n    .dataframe tbody tr th {\n        vertical-align: top;\n    }\n\n    .dataframe thead th {\n        text-align: right;\n    }\n</style>\n<table border=\"1\" class=\"dataframe\">\n  <thead>\n    <tr style=\"text-align: right;\">\n      <th></th>\n      <th>pupil</th>\n      <th>time</th>\n      <th>trial</th>\n      <th>x</th>\n      <th>y</th>\n    </tr>\n  </thead>\n  <tbody>\n    <tr>\n      <th>0</th>\n      <td>663</td>\n      <td>-91761</td>\n      <td>1</td>\n      <td>1608.6</td>\n      <td>2670.4</td>\n    </tr>\n    <tr>\n      <th>1</th>\n      <td>693</td>\n      <td>-91759</td>\n      <td>1</td>\n      <td>1567.6</td>\n      <td>2541.9</td>\n    </tr>\n    <tr>\n      <th>2</th>\n      <td>695</td>\n      <td>-91757</td>\n      <td>1</td>\n      <td>1529.2</td>\n      <td>2406.5</td>\n    </tr>\n    <tr>\n      <th>3</th>\n      <td>694</td>\n      <td>-91755</td>\n      <td>1</td>\n      <td>1488.5</td>\n      <td>2273.6</td>\n    </tr>\n    <tr>\n      <th>4</th>\n      <td>697</td>\n      <td>-91753</td>\n      <td>1</td>\n      <td>1454.7</td>\n      <td>2170.3</td>\n    </tr>\n  </tbody>\n</table>\n</div>"
     },
     "execution_count": 1,
     "metadata": {},
     "output_type": "execute_result"
    }
   ],
   "source": [
    "import pandas as pd\n",
    "pd.read_excel('../sample_data/1imageSubset.xlsx').head()"
   ],
   "metadata": {
    "collapsed": false,
    "pycharm": {
     "name": "#%%\n"
    }
   }
  },
  {
   "cell_type": "markdown",
   "source": [
    "## Imports"
   ],
   "metadata": {
    "collapsed": false,
    "pycharm": {
     "name": "#%% md\n"
    }
   }
  },
  {
   "cell_type": "code",
   "execution_count": 2,
   "outputs": [],
   "source": [
    "from mna.sessions.eye_session import process_eye_trial_xlsx"
   ],
   "metadata": {
    "collapsed": false,
    "pycharm": {
     "name": "#%%\n"
    }
   }
  },
  {
   "cell_type": "markdown",
   "source": [
    "## Analyze the xlsx file"
   ],
   "metadata": {
    "collapsed": false,
    "pycharm": {
     "name": "#%% md\n"
    }
   }
  },
  {
   "cell_type": "markdown",
   "source": [
    "This function processes a single trial worth of data, defined as the entire _.xlsx_ file presently. It simply reads the file, converts the coordinates to degrees, and runs the pre-configured *NSLR* algorithm to generate classes. The *NSLR* classifier is the best performing in most tests but you can also try *REMODNAV*. `screen_max_x` and `screen_max_y` are used to determine the center of the screen to referece coordinates."
   ],
   "metadata": {
    "collapsed": false,
    "pycharm": {
     "name": "#%% md\n"
    }
   }
  },
  {
   "cell_type": "code",
   "execution_count": 3,
   "outputs": [],
   "source": [
    "eye_data, intervals_nan, eye_results_df, fig = process_eye_trial_xlsx(xlsx_filename = '../sample_data/1imageSubset.xlsx', classifiers = 'NSLR', plot_eye_result=True, screen_max_x=1280, screen_max_y=960, time_units='ms')"
   ],
   "metadata": {
    "collapsed": false,
    "pycharm": {
     "name": "#%%\n"
    }
   }
  },
  {
   "cell_type": "markdown",
   "source": [
    "## Results"
   ],
   "metadata": {
    "collapsed": false,
    "pycharm": {
     "name": "#%% md\n"
    }
   }
  },
  {
   "cell_type": "markdown",
   "source": [
    "### Classification result for each sample"
   ],
   "metadata": {
    "collapsed": false,
    "pycharm": {
     "name": "#%% md\n"
    }
   }
  },
  {
   "cell_type": "markdown",
   "source": [
    "*x_deg* and *y_deg* are the converted visual degrees of the x and y coordinate data respectively. *NSLR_Segment* is the number of event (segment) for that sample, and *NSLR_Class* is the class label."
   ],
   "metadata": {
    "collapsed": false,
    "pycharm": {
     "name": "#%% md\n"
    }
   }
  },
  {
   "cell_type": "code",
   "execution_count": 5,
   "outputs": [
    {
     "name": "stdout",
     "output_type": "stream",
     "text": [
      "intervals unable to be classified: []\n"
     ]
    },
    {
     "data": {
      "text/plain": "   pupil  timestamp  trial       x       y      x_deg      y_deg  \\\n0    663    -91.761      1  1608.6  2670.4  86.160799  88.300250   \n1    693    -91.759      1  1567.6  2541.9  85.991647  88.194387   \n2    695    -91.757      1  1529.2  2406.5  85.819148  88.067577   \n3    694    -91.755      1  1488.5  2273.6  85.619368  87.924511   \n4    697    -91.753      1  1454.7  2170.3  85.438378  87.797792   \n\n   NSLR_Segment NSLR_Class  \n0           1.0   Fixation  \n1           1.0   Fixation  \n2           1.0   Fixation  \n3           1.0   Fixation  \n4           1.0   Fixation  ",
      "text/html": "<div>\n<style scoped>\n    .dataframe tbody tr th:only-of-type {\n        vertical-align: middle;\n    }\n\n    .dataframe tbody tr th {\n        vertical-align: top;\n    }\n\n    .dataframe thead th {\n        text-align: right;\n    }\n</style>\n<table border=\"1\" class=\"dataframe\">\n  <thead>\n    <tr style=\"text-align: right;\">\n      <th></th>\n      <th>pupil</th>\n      <th>timestamp</th>\n      <th>trial</th>\n      <th>x</th>\n      <th>y</th>\n      <th>x_deg</th>\n      <th>y_deg</th>\n      <th>NSLR_Segment</th>\n      <th>NSLR_Class</th>\n    </tr>\n  </thead>\n  <tbody>\n    <tr>\n      <th>0</th>\n      <td>663</td>\n      <td>-91.761</td>\n      <td>1</td>\n      <td>1608.6</td>\n      <td>2670.4</td>\n      <td>86.160799</td>\n      <td>88.300250</td>\n      <td>1.0</td>\n      <td>Fixation</td>\n    </tr>\n    <tr>\n      <th>1</th>\n      <td>693</td>\n      <td>-91.759</td>\n      <td>1</td>\n      <td>1567.6</td>\n      <td>2541.9</td>\n      <td>85.991647</td>\n      <td>88.194387</td>\n      <td>1.0</td>\n      <td>Fixation</td>\n    </tr>\n    <tr>\n      <th>2</th>\n      <td>695</td>\n      <td>-91.757</td>\n      <td>1</td>\n      <td>1529.2</td>\n      <td>2406.5</td>\n      <td>85.819148</td>\n      <td>88.067577</td>\n      <td>1.0</td>\n      <td>Fixation</td>\n    </tr>\n    <tr>\n      <th>3</th>\n      <td>694</td>\n      <td>-91.755</td>\n      <td>1</td>\n      <td>1488.5</td>\n      <td>2273.6</td>\n      <td>85.619368</td>\n      <td>87.924511</td>\n      <td>1.0</td>\n      <td>Fixation</td>\n    </tr>\n    <tr>\n      <th>4</th>\n      <td>697</td>\n      <td>-91.753</td>\n      <td>1</td>\n      <td>1454.7</td>\n      <td>2170.3</td>\n      <td>85.438378</td>\n      <td>87.797792</td>\n      <td>1.0</td>\n      <td>Fixation</td>\n    </tr>\n  </tbody>\n</table>\n</div>"
     },
     "execution_count": 5,
     "metadata": {},
     "output_type": "execute_result"
    }
   ],
   "source": [
    "print(f\"intervals unable to be classified: {intervals_nan}\")\n",
    "eye_data.head()"
   ],
   "metadata": {
    "collapsed": false,
    "pycharm": {
     "name": "#%%\n"
    }
   }
  },
  {
   "cell_type": "markdown",
   "source": [
    "### Aggregate summary of classes"
   ],
   "metadata": {
    "collapsed": false,
    "pycharm": {
     "name": "#%% md\n"
    }
   }
  },
  {
   "cell_type": "markdown",
   "source": [
    "For each class recognized, *count* is the total count in the trial, *first_onset* is the first occurance (in seconds) of the class in the trial, *mean_duration* is the average duration (in seconds) of the class across all occurances. *class_onsets* is an continuous iterable that can be used for sequencing the trial."
   ],
   "metadata": {
    "collapsed": false,
    "pycharm": {
     "name": "#%% md\n"
    }
   }
  },
  {
   "cell_type": "code",
   "execution_count": 6,
   "outputs": [
    {
     "data": {
      "text/plain": "                                                                                   0\nNSLR_count.Blink                                                                 5.0\nNSLR_count.Fixation                                                             11.0\nNSLR_count.PSO                                                                   3.0\nNSLR_count.Saccade                                                              18.0\nNSLR_count.Smooth Pursuit                                                        7.0\nNSLR_first_onset.Blink                                                         2.465\nNSLR_first_onset.Fixation                                                    -91.761\nNSLR_first_onset.PSO                                                           0.267\nNSLR_first_onset.Saccade                                                       0.239\nNSLR_first_onset.Smooth Pursuit                                                0.677\nNSLR_mean_duration.Blink                                                      0.0208\nNSLR_mean_duration.Fixation                                                 8.986545\nNSLR_mean_duration.PSO                                                      0.153333\nNSLR_mean_duration.Saccade                                                  0.057222\nNSLR_mean_duration.Smooth Pursuit                                           0.599714\nNSLR_class_onsets                  [[-91.761, Fixation], [-91.237, Fixation], [-0...",
      "text/html": "<div>\n<style scoped>\n    .dataframe tbody tr th:only-of-type {\n        vertical-align: middle;\n    }\n\n    .dataframe tbody tr th {\n        vertical-align: top;\n    }\n\n    .dataframe thead th {\n        text-align: right;\n    }\n</style>\n<table border=\"1\" class=\"dataframe\">\n  <thead>\n    <tr style=\"text-align: right;\">\n      <th></th>\n      <th>0</th>\n    </tr>\n  </thead>\n  <tbody>\n    <tr>\n      <th>NSLR_count.Blink</th>\n      <td>5.0</td>\n    </tr>\n    <tr>\n      <th>NSLR_count.Fixation</th>\n      <td>11.0</td>\n    </tr>\n    <tr>\n      <th>NSLR_count.PSO</th>\n      <td>3.0</td>\n    </tr>\n    <tr>\n      <th>NSLR_count.Saccade</th>\n      <td>18.0</td>\n    </tr>\n    <tr>\n      <th>NSLR_count.Smooth Pursuit</th>\n      <td>7.0</td>\n    </tr>\n    <tr>\n      <th>NSLR_first_onset.Blink</th>\n      <td>2.465</td>\n    </tr>\n    <tr>\n      <th>NSLR_first_onset.Fixation</th>\n      <td>-91.761</td>\n    </tr>\n    <tr>\n      <th>NSLR_first_onset.PSO</th>\n      <td>0.267</td>\n    </tr>\n    <tr>\n      <th>NSLR_first_onset.Saccade</th>\n      <td>0.239</td>\n    </tr>\n    <tr>\n      <th>NSLR_first_onset.Smooth Pursuit</th>\n      <td>0.677</td>\n    </tr>\n    <tr>\n      <th>NSLR_mean_duration.Blink</th>\n      <td>0.0208</td>\n    </tr>\n    <tr>\n      <th>NSLR_mean_duration.Fixation</th>\n      <td>8.986545</td>\n    </tr>\n    <tr>\n      <th>NSLR_mean_duration.PSO</th>\n      <td>0.153333</td>\n    </tr>\n    <tr>\n      <th>NSLR_mean_duration.Saccade</th>\n      <td>0.057222</td>\n    </tr>\n    <tr>\n      <th>NSLR_mean_duration.Smooth Pursuit</th>\n      <td>0.599714</td>\n    </tr>\n    <tr>\n      <th>NSLR_class_onsets</th>\n      <td>[[-91.761, Fixation], [-91.237, Fixation], [-0...</td>\n    </tr>\n  </tbody>\n</table>\n</div>"
     },
     "execution_count": 6,
     "metadata": {},
     "output_type": "execute_result"
    }
   ],
   "source": [
    "eye_results_df"
   ],
   "metadata": {
    "collapsed": false,
    "pycharm": {
     "name": "#%%\n"
    }
   }
  },
  {
   "cell_type": "markdown",
   "source": [
    "### Visualization of segments"
   ],
   "metadata": {
    "collapsed": false,
    "pycharm": {
     "name": "#%% md\n"
    }
   }
  },
  {
   "cell_type": "markdown",
   "source": [
    "A simple figure showing the x and y visual angles in degrees (top and bottom respectively), colored by class for each recognized segment. It is a quick visualization of information contained in *eye_data*."
   ],
   "metadata": {
    "collapsed": false,
    "pycharm": {
     "name": "#%% md\n"
    }
   }
  },
  {
   "cell_type": "code",
   "execution_count": 7,
   "outputs": [
    {
     "data": {
      "text/plain": "<Figure size 1080x432 with 2 Axes>",
      "image/png": "[encoded data removed]"
     },
     "execution_count": 7,
     "metadata": {},
     "output_type": "execute_result"
    }
   ],
   "source": [
    "fig"
   ],
   "metadata": {
    "collapsed": false,
    "pycharm": {
     "name": "#%%\n"
    }
   }
  },
  {
   "cell_type": "code",
   "execution_count": null,
   "outputs": [],
   "source": [],
   "metadata": {
    "collapsed": false,
    "pycharm": {
     "name": "#%%\n"
    }
   }
  }
 ],
 "metadata": {
  "kernelspec": {
   "name": "mna",
   "language": "python",
   "display_name": "mna"
  },
  "language_info": {
   "codemirror_mode": {
    "name": "ipython",
    "version": 3
   },
   "file_extension": ".py",
   "mimetype": "text/x-python",
   "name": "python",
   "nbconvert_exporter": "python",
   "pygments_lexer": "ipython3",
   "version": "3.8.5"
  }
 },
 "nbformat": 4,
 "nbformat_minor": 5
}