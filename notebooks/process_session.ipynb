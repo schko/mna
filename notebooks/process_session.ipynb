{
 "cells": [
  {
   "cell_type": "markdown",
   "id": "73a24ae0",
   "metadata": {
    "pycharm": {
     "name": "#%% md\n"
    }
   },
   "source": [
    "# Session analysis"
   ]
  },
  {
   "cell_type": "code",
   "execution_count": 2,
   "outputs": [],
   "source": [
    "import pandas as pd\n",
    "\n",
    "from mna.sessions.eye_session import process_session_eye\n",
    "from mna.sessions.eeg_session import process_session_eeg\n",
    "from mna.sessions.motor_session import process_session_motor\n",
    "from mna.sessions.ecg_session import process_session_ecg"
   ],
   "metadata": {
    "collapsed": false,
    "pycharm": {
     "name": "#%%\n"
    }
   }
  },
  {
   "cell_type": "code",
   "execution_count": 3,
   "outputs": [],
   "source": [
    "import matplotlib\n",
    "matplotlib.use('Agg')"
   ],
   "metadata": {
    "collapsed": false,
    "pycharm": {
     "name": "#%%\n"
    }
   }
  },
  {
   "cell_type": "markdown",
   "id": "327c6e17",
   "metadata": {
    "pycharm": {
     "name": "#%% md\n"
    }
   },
   "source": [
    "# 1. Read a RN App, converted pkl file, and create the metadata and data structure"
   ]
  },
  {
   "cell_type": "code",
   "execution_count": 5,
   "outputs": [],
   "source": [
    "from os import listdir\n",
    "from os.path import isfile, join\n",
    "from mna.utils.rnapp_data_format import read_all_lslpresets, return_metadata_from_name, event_data_from_data\n",
    "import pickle"
   ],
   "metadata": {
    "collapsed": false,
    "pycharm": {
     "name": "#%%\n"
    }
   }
  },
  {
   "cell_type": "code",
   "execution_count": 4,
   "id": "8ac476dc",
   "metadata": {
    "pycharm": {
     "name": "#%%\n"
    }
   },
   "outputs": [
    {
     "name": "stdout",
     "output_type": "stream",
     "text": [
      "input_path /Volumes/GoogleDrive/My Drive/Research Work/BCIFlow/Pkl_Recordings/06_15_2022_10_38_35-Exp_myexperiment-Sbj_02-Ssn_02.dats.pkl\n"
     ]
    }
   ],
   "source": [
    "data_dir = \"/Volumes/GoogleDrive/My Drive/Research Work/BCIFlow/Pkl_Recordings/\"\n",
    "lsl_dir = \"../mna/LSLPresets/\"\n",
    "onlyfiles = [f for f in listdir(data_dir) if isfile(join(data_dir, f)) and '.pkl' in f]\n",
    "input_path = data_dir + onlyfiles[4] # pick a random file\n",
    "print(f\"input_path {input_path}\")\n",
    "metadata_jsons = read_all_lslpresets(path_to_jsonfiles=lsl_dir)\n",
    "with open(input_path, 'rb') as handle:\n",
    "    rns_data = pickle.load(handle)\n",
    "    \n",
    "## Add metadata to data\n",
    "\n",
    "for key in rns_data.keys():\n",
    "    rns_data[key].append(return_metadata_from_name(key, metadata_jsons))"
   ]
  },
  {
   "cell_type": "markdown",
   "id": "dc36cd5c",
   "metadata": {
    "pycharm": {
     "name": "#%% md\n"
    }
   },
   "source": [
    "# 2. Create new events (trial start etc.)"
   ]
  },
  {
   "cell_type": "code",
   "execution_count": 5,
   "id": "43a8d86e",
   "metadata": {
    "pycharm": {
     "name": "#%%\n"
    }
   },
   "outputs": [],
   "source": [
    "event_df = event_data_from_data(rns_data)\n",
    "event_df['trial_damage'] = event_df.damage.diff().fillna(0)\n",
    "event_df['trial_duration'] = event_df.trial_end_time - event_df.trial_start_time\n",
    "percent_missing = event_df.notnull().sum() / len(event_df)\n",
    "summary_statistics = {}\n",
    "summary_statistics['voice_success_rate'] = percent_missing['voice_timestamp']\n",
    "if 'chunk_timestamp' in percent_missing:\n",
    "    summary_statistics['chunk_success_rate'] = percent_missing['chunk_timestamp']\n",
    "else:\n",
    "    summary_statistics['chunk_success_rate'] = 0\n",
    "\n",
    "# temporary fix for pilot phase where we had some incomplete data\n",
    "if 'block_condition' not in event_df:\n",
    "    event_df['block_condition'] = 'practice'\n",
    "    event_df.loc[5:,'block_condition'] = 'voice'\n",
    "\n",
    "event_df['spoken_difficulty_encoded'] = event_df.spoken_difficulty.replace(to_replace=['easy', 'hard'],\n",
    "                                                                      value=[1, 2])"
   ]
  },
  {
   "cell_type": "markdown",
   "id": "b727cc8f",
   "metadata": {
    "pycharm": {
     "name": "#%% md\n"
    }
   },
   "source": [
    "# 3. ECG Data Processing"
   ]
  },
  {
   "cell_type": "code",
   "execution_count": 6,
   "id": "30c7698b",
   "metadata": {
    "pycharm": {
     "name": "#%%\n"
    }
   },
   "outputs": [],
   "source": [
    "post_processed_event_df = process_session_ecg(rns_data, event_df,plot_frequency=20,plot_ecg_snippet=40)"
   ]
  },
  {
   "cell_type": "markdown",
   "id": "fd2c194c",
   "metadata": {
    "pycharm": {
     "name": "#%% md\n"
    }
   },
   "source": [
    "# 4. Eye Tracking Processing"
   ]
  },
  {
   "cell_type": "code",
   "execution_count": 7,
   "id": "fa69a025",
   "metadata": {
    "pycharm": {
     "name": "#%%\n"
    }
   },
   "outputs": [
    {
     "name": "stderr",
     "output_type": "stream",
     "text": [
      "Computed velocity exceeds threshold. Inappropriate filter setup? [2087.7 > 1000.0 deg/s]\n",
      "Computed velocity exceeds threshold. Inappropriate filter setup? [2566.9 > 1000.0 deg/s]\n",
      "Computed velocity exceeds threshold. Inappropriate filter setup? [1798.8 > 1000.0 deg/s]\n",
      "Computed velocity exceeds threshold. Inappropriate filter setup? [1811.1 > 1000.0 deg/s]\n",
      "Computed velocity exceeds threshold. Inappropriate filter setup? [1711.0 > 1000.0 deg/s]\n",
      "Computed velocity exceeds threshold. Inappropriate filter setup? [1991.5 > 1000.0 deg/s]\n",
      "Computed velocity exceeds threshold. Inappropriate filter setup? [1886.0 > 1000.0 deg/s]\n",
      "Computed velocity exceeds threshold. Inappropriate filter setup? [1862.0 > 1000.0 deg/s]\n",
      "Computed velocity exceeds threshold. Inappropriate filter setup? [1512.8 > 1000.0 deg/s]\n",
      "Computed velocity exceeds threshold. Inappropriate filter setup? [1002.0 > 1000.0 deg/s]\n",
      "Computed velocity exceeds threshold. Inappropriate filter setup? [1054.9 > 1000.0 deg/s]\n",
      "Computed velocity exceeds threshold. Inappropriate filter setup? [1058.8 > 1000.0 deg/s]\n",
      "Computed velocity exceeds threshold. Inappropriate filter setup? [2048.9 > 1000.0 deg/s]\n",
      "Computed velocity exceeds threshold. Inappropriate filter setup? [1417.7 > 1000.0 deg/s]\n",
      "Computed velocity exceeds threshold. Inappropriate filter setup? [1601.5 > 1000.0 deg/s]\n",
      "Computed velocity exceeds threshold. Inappropriate filter setup? [1540.0 > 1000.0 deg/s]\n",
      "Computed velocity exceeds threshold. Inappropriate filter setup? [2138.0 > 1000.0 deg/s]\n",
      "Computed velocity exceeds threshold. Inappropriate filter setup? [1908.8 > 1000.0 deg/s]\n",
      "Computed velocity exceeds threshold. Inappropriate filter setup? [1646.2 > 1000.0 deg/s]\n",
      "Computed velocity exceeds threshold. Inappropriate filter setup? [1590.1 > 1000.0 deg/s]\n",
      "Computed velocity exceeds threshold. Inappropriate filter setup? [1628.4 > 1000.0 deg/s]\n",
      "Computed velocity exceeds threshold. Inappropriate filter setup? [1093.0 > 1000.0 deg/s]\n",
      "Computed velocity exceeds threshold. Inappropriate filter setup? [1080.0 > 1000.0 deg/s]\n",
      "Computed velocity exceeds threshold. Inappropriate filter setup? [1607.6 > 1000.0 deg/s]\n",
      "Computed velocity exceeds threshold. Inappropriate filter setup? [1874.0 > 1000.0 deg/s]\n",
      "Computed velocity exceeds threshold. Inappropriate filter setup? [1766.3 > 1000.0 deg/s]\n",
      "Computed velocity exceeds threshold. Inappropriate filter setup? [1480.8 > 1000.0 deg/s]\n",
      "Computed velocity exceeds threshold. Inappropriate filter setup? [1650.6 > 1000.0 deg/s]\n",
      "Computed velocity exceeds threshold. Inappropriate filter setup? [1447.7 > 1000.0 deg/s]\n",
      "Computed velocity exceeds threshold. Inappropriate filter setup? [1199.9 > 1000.0 deg/s]\n",
      "Computed velocity exceeds threshold. Inappropriate filter setup? [1162.0 > 1000.0 deg/s]\n",
      "Computed velocity exceeds threshold. Inappropriate filter setup? [1511.5 > 1000.0 deg/s]\n",
      "Computed velocity exceeds threshold. Inappropriate filter setup? [1827.1 > 1000.0 deg/s]\n",
      "Computed velocity exceeds threshold. Inappropriate filter setup? [1923.3 > 1000.0 deg/s]\n",
      "Computed velocity exceeds threshold. Inappropriate filter setup? [1632.0 > 1000.0 deg/s]\n",
      "Computed velocity exceeds threshold. Inappropriate filter setup? [1078.0 > 1000.0 deg/s]\n",
      "Computed velocity exceeds threshold. Inappropriate filter setup? [1008.3 > 1000.0 deg/s]\n",
      "Computed velocity exceeds threshold. Inappropriate filter setup? [1142.8 > 1000.0 deg/s]\n",
      "Computed velocity exceeds threshold. Inappropriate filter setup? [2164.8 > 1000.0 deg/s]\n",
      "Computed velocity exceeds threshold. Inappropriate filter setup? [1564.5 > 1000.0 deg/s]\n",
      "Computed velocity exceeds threshold. Inappropriate filter setup? [1406.0 > 1000.0 deg/s]\n",
      "Computed velocity exceeds threshold. Inappropriate filter setup? [1051.6 > 1000.0 deg/s]\n",
      "Computed velocity exceeds threshold. Inappropriate filter setup? [1274.4 > 1000.0 deg/s]\n",
      "Computed velocity exceeds threshold. Inappropriate filter setup? [1196.2 > 1000.0 deg/s]\n",
      "Computed velocity exceeds threshold. Inappropriate filter setup? [1005.2 > 1000.0 deg/s]\n",
      "Computed velocity exceeds threshold. Inappropriate filter setup? [1751.2 > 1000.0 deg/s]\n",
      "Computed velocity exceeds threshold. Inappropriate filter setup? [1685.1 > 1000.0 deg/s]\n",
      "Computed velocity exceeds threshold. Inappropriate filter setup? [1381.1 > 1000.0 deg/s]\n",
      "Computed velocity exceeds threshold. Inappropriate filter setup? [2050.6 > 1000.0 deg/s]\n",
      "Computed velocity exceeds threshold. Inappropriate filter setup? [1252.6 > 1000.0 deg/s]\n",
      "Computed velocity exceeds threshold. Inappropriate filter setup? [1045.8 > 1000.0 deg/s]\n",
      "Computed velocity exceeds threshold. Inappropriate filter setup? [1025.9 > 1000.0 deg/s]\n",
      "Computed velocity exceeds threshold. Inappropriate filter setup? [1403.7 > 1000.0 deg/s]\n",
      "Computed velocity exceeds threshold. Inappropriate filter setup? [1273.0 > 1000.0 deg/s]\n",
      "Computed velocity exceeds threshold. Inappropriate filter setup? [1233.5 > 1000.0 deg/s]\n",
      "Computed velocity exceeds threshold. Inappropriate filter setup? [1437.3 > 1000.0 deg/s]\n",
      "Computed velocity exceeds threshold. Inappropriate filter setup? [1437.3 > 1000.0 deg/s]\n",
      "Computed velocity exceeds threshold. Inappropriate filter setup? [1268.2 > 1000.0 deg/s]\n",
      "Computed velocity exceeds threshold. Inappropriate filter setup? [1015.3 > 1000.0 deg/s]\n",
      "Computed velocity exceeds threshold. Inappropriate filter setup? [1215.5 > 1000.0 deg/s]\n",
      "Computed velocity exceeds threshold. Inappropriate filter setup? [2307.9 > 1000.0 deg/s]\n",
      "Computed velocity exceeds threshold. Inappropriate filter setup? [1962.1 > 1000.0 deg/s]\n",
      "Computed velocity exceeds threshold. Inappropriate filter setup? [1107.1 > 1000.0 deg/s]\n",
      "Computed velocity exceeds threshold. Inappropriate filter setup? [1141.9 > 1000.0 deg/s]\n",
      "Computed velocity exceeds threshold. Inappropriate filter setup? [1200.6 > 1000.0 deg/s]\n",
      "Computed velocity exceeds threshold. Inappropriate filter setup? [1041.3 > 1000.0 deg/s]\n",
      "Computed velocity exceeds threshold. Inappropriate filter setup? [1060.6 > 1000.0 deg/s]\n",
      "Computed velocity exceeds threshold. Inappropriate filter setup? [1483.5 > 1000.0 deg/s]\n",
      "Computed velocity exceeds threshold. Inappropriate filter setup? [1679.5 > 1000.0 deg/s]\n",
      "Computed velocity exceeds threshold. Inappropriate filter setup? [1080.2 > 1000.0 deg/s]\n",
      "Computed velocity exceeds threshold. Inappropriate filter setup? [1240.2 > 1000.0 deg/s]\n",
      "Computed velocity exceeds threshold. Inappropriate filter setup? [1190.2 > 1000.0 deg/s]\n",
      "Computed velocity exceeds threshold. Inappropriate filter setup? [1151.2 > 1000.0 deg/s]\n",
      "Computed velocity exceeds threshold. Inappropriate filter setup? [1257.2 > 1000.0 deg/s]\n",
      "Computed velocity exceeds threshold. Inappropriate filter setup? [1164.3 > 1000.0 deg/s]\n",
      "Computed velocity exceeds threshold. Inappropriate filter setup? [1129.6 > 1000.0 deg/s]\n",
      "Computed velocity exceeds threshold. Inappropriate filter setup? [1747.3 > 1000.0 deg/s]\n",
      "Computed velocity exceeds threshold. Inappropriate filter setup? [1310.0 > 1000.0 deg/s]\n",
      "Computed velocity exceeds threshold. Inappropriate filter setup? [2073.4 > 1000.0 deg/s]\n",
      "Computed velocity exceeds threshold. Inappropriate filter setup? [1692.6 > 1000.0 deg/s]\n",
      "Computed velocity exceeds threshold. Inappropriate filter setup? [1013.0 > 1000.0 deg/s]\n",
      "Computed velocity exceeds threshold. Inappropriate filter setup? [1011.5 > 1000.0 deg/s]\n",
      "Computed velocity exceeds threshold. Inappropriate filter setup? [1993.5 > 1000.0 deg/s]\n",
      "Computed velocity exceeds threshold. Inappropriate filter setup? [1037.1 > 1000.0 deg/s]\n",
      "Computed velocity exceeds threshold. Inappropriate filter setup? [1507.0 > 1000.0 deg/s]\n",
      "Computed velocity exceeds threshold. Inappropriate filter setup? [1122.3 > 1000.0 deg/s]\n",
      "Computed velocity exceeds threshold. Inappropriate filter setup? [1770.3 > 1000.0 deg/s]\n",
      "Computed velocity exceeds threshold. Inappropriate filter setup? [2318.6 > 1000.0 deg/s]\n",
      "Computed velocity exceeds threshold. Inappropriate filter setup? [2293.6 > 1000.0 deg/s]\n",
      "Computed velocity exceeds threshold. Inappropriate filter setup? [1079.0 > 1000.0 deg/s]\n",
      "Computed velocity exceeds threshold. Inappropriate filter setup? [1507.4 > 1000.0 deg/s]\n",
      "Computed velocity exceeds threshold. Inappropriate filter setup? [2066.9 > 1000.0 deg/s]\n",
      "Computed velocity exceeds threshold. Inappropriate filter setup? [1084.3 > 1000.0 deg/s]\n",
      "Computed velocity exceeds threshold. Inappropriate filter setup? [1116.3 > 1000.0 deg/s]\n",
      "Computed velocity exceeds threshold. Inappropriate filter setup? [2072.3 > 1000.0 deg/s]\n",
      "Computed velocity exceeds threshold. Inappropriate filter setup? [1636.2 > 1000.0 deg/s]\n",
      "Computed velocity exceeds threshold. Inappropriate filter setup? [2333.3 > 1000.0 deg/s]\n",
      "Computed velocity exceeds threshold. Inappropriate filter setup? [1208.9 > 1000.0 deg/s]\n",
      "Computed velocity exceeds threshold. Inappropriate filter setup? [1875.0 > 1000.0 deg/s]\n",
      "Computed velocity exceeds threshold. Inappropriate filter setup? [1994.1 > 1000.0 deg/s]\n",
      "Computed velocity exceeds threshold. Inappropriate filter setup? [1367.1 > 1000.0 deg/s]\n",
      "Computed velocity exceeds threshold. Inappropriate filter setup? [1317.6 > 1000.0 deg/s]\n",
      "Computed velocity exceeds threshold. Inappropriate filter setup? [1710.8 > 1000.0 deg/s]\n",
      "Computed velocity exceeds threshold. Inappropriate filter setup? [1987.3 > 1000.0 deg/s]\n",
      "Computed velocity exceeds threshold. Inappropriate filter setup? [1065.0 > 1000.0 deg/s]\n",
      "Computed velocity exceeds threshold. Inappropriate filter setup? [1066.0 > 1000.0 deg/s]\n",
      "Computed velocity exceeds threshold. Inappropriate filter setup? [1103.5 > 1000.0 deg/s]\n",
      "Computed velocity exceeds threshold. Inappropriate filter setup? [1278.9 > 1000.0 deg/s]\n",
      "Computed velocity exceeds threshold. Inappropriate filter setup? [1220.7 > 1000.0 deg/s]\n",
      "Computed velocity exceeds threshold. Inappropriate filter setup? [1178.8 > 1000.0 deg/s]\n",
      "Computed velocity exceeds threshold. Inappropriate filter setup? [1223.1 > 1000.0 deg/s]\n",
      "Computed velocity exceeds threshold. Inappropriate filter setup? [1013.6 > 1000.0 deg/s]\n",
      "Computed velocity exceeds threshold. Inappropriate filter setup? [1506.3 > 1000.0 deg/s]\n",
      "Computed velocity exceeds threshold. Inappropriate filter setup? [1294.6 > 1000.0 deg/s]\n",
      "Computed velocity exceeds threshold. Inappropriate filter setup? [1545.7 > 1000.0 deg/s]\n",
      "Computed velocity exceeds threshold. Inappropriate filter setup? [1370.1 > 1000.0 deg/s]\n",
      "Computed velocity exceeds threshold. Inappropriate filter setup? [1275.1 > 1000.0 deg/s]\n",
      "Computed velocity exceeds threshold. Inappropriate filter setup? [1654.3 > 1000.0 deg/s]\n",
      "Computed velocity exceeds threshold. Inappropriate filter setup? [1528.8 > 1000.0 deg/s]\n",
      "Computed velocity exceeds threshold. Inappropriate filter setup? [1201.8 > 1000.0 deg/s]\n",
      "Computed velocity exceeds threshold. Inappropriate filter setup? [1252.1 > 1000.0 deg/s]\n",
      "Computed velocity exceeds threshold. Inappropriate filter setup? [1317.9 > 1000.0 deg/s]\n",
      "Computed velocity exceeds threshold. Inappropriate filter setup? [1242.5 > 1000.0 deg/s]\n"
     ]
    }
   ],
   "source": [
    "post_processed_event_df = process_session_eye(rns_data, post_processed_event_df,detect_blink=True,plot_frequency=20, plot_eye_snippet=40)"
   ]
  },
  {
   "cell_type": "code",
   "execution_count": 10,
   "outputs": [
    {
     "data": {
      "text/plain": "    trial_start_time  trial_end_time  ppid  session  block  number_in_block  \\\n0           0.000000     2534.338858   2.0      2.0    1.0              1.0   \n1        2534.348858     2547.114877   2.0      2.0    1.0              2.0   \n2        2547.124877     2559.498461   2.0      2.0    1.0              3.0   \n3        2559.508461     2574.974257   2.0      2.0    1.0              4.0   \n4        2574.984257     2591.728904   2.0      2.0    1.0              5.0   \n..               ...             ...   ...      ...    ...              ...   \n68       3709.997879     3727.054514   2.0      2.0   10.0              4.0   \n69       3727.064514     3743.615957   2.0      2.0   10.0              5.0   \n70       3743.625957     3760.319535   2.0      2.0   10.0              6.0   \n71       3760.329535     3776.698323   2.0      2.0   10.0              7.0   \n72       3776.708323     3792.807723   2.0      2.0   10.0              8.0   \n\n    trial   density     damage  source  ...  CP4 Freq Band Power  \\\n0     1.0  0.000000   0.000000     4.0  ...                  NaN   \n1     2.0  0.100000   0.000000     4.0  ...         5.574559e-13   \n2     3.0  0.300000   0.000000     4.0  ...         5.336982e-13   \n3     4.0  0.500000   0.000000     4.0  ...                  NaN   \n4     5.0  0.700000   0.000000     4.0  ...                  NaN   \n..    ...       ...        ...     ...  ...                  ...   \n68   69.0  0.066480  68.117813     0.0  ...         1.161277e-12   \n69   70.0  0.254417  68.117813     0.0  ...         1.180116e-12   \n70   71.0  0.757396  68.117813     0.0  ...         2.769577e-12   \n71   72.0  0.594553  68.117813     0.0  ...                  NaN   \n72   73.0  0.657274  68.117813     0.0  ...                  NaN   \n\n   CP2 Freq Band Power P2 Freq Band Power  P4 Freq Band Power  \\\n0                  NaN                NaN                 NaN   \n1         7.090736e-13       6.852647e-13        5.521315e-13   \n2         3.514737e-13       4.585340e-13        5.627335e-13   \n3                  NaN                NaN                 NaN   \n4                  NaN                NaN                 NaN   \n..                 ...                ...                 ...   \n68        1.498766e-12       2.770091e-12        2.216850e-12   \n69        1.363976e-12       1.574226e-12        1.327388e-12   \n70        1.815771e-12       2.515022e-12        3.202859e-12   \n71                 NaN                NaN                 NaN   \n72                 NaN                NaN                 NaN   \n\n   P6 Freq Band Power  P8 Freq Band Power  P10 Freq Band Power  \\\n0                 NaN                 NaN                  NaN   \n1        1.156259e-12        1.084157e-12         1.263229e-12   \n2        1.184011e-12        1.812955e-12         1.158613e-12   \n3                 NaN                 NaN                  NaN   \n4                 NaN                 NaN                  NaN   \n..                ...                 ...                  ...   \n68       1.794910e-12        2.177909e-12         2.071346e-12   \n69       1.297830e-12        1.403529e-12         1.479037e-12   \n70       3.049063e-12        2.392105e-12         1.690180e-12   \n71                NaN                 NaN                  NaN   \n72                NaN                 NaN                  NaN   \n\n    PO8 Freq Band Power  PO4 Freq Band Power  O2 Freq Band Power  \n0                   NaN                  NaN                 NaN  \n1          1.493509e-12         1.135999e-12        1.342998e-12  \n2          1.631533e-12         9.437342e-13        1.161543e-12  \n3                   NaN                  NaN                 NaN  \n4                   NaN                  NaN                 NaN  \n..                  ...                  ...                 ...  \n68         3.094199e-12         3.543312e-12        3.265200e-12  \n69         1.786509e-12         1.059614e-12        1.606240e-12  \n70         2.461874e-12         3.134016e-12        2.946121e-12  \n71                  NaN                  NaN                 NaN  \n72                  NaN                  NaN                 NaN  \n\n[73 rows x 141 columns]",
      "text/html": "<div>\n<style scoped>\n    .dataframe tbody tr th:only-of-type {\n        vertical-align: middle;\n    }\n\n    .dataframe tbody tr th {\n        vertical-align: top;\n    }\n\n    .dataframe thead th {\n        text-align: right;\n    }\n</style>\n<table border=\"1\" class=\"dataframe\">\n  <thead>\n    <tr style=\"text-align: right;\">\n      <th></th>\n      <th>trial_start_time</th>\n      <th>trial_end_time</th>\n      <th>ppid</th>\n      <th>session</th>\n      <th>block</th>\n      <th>number_in_block</th>\n      <th>trial</th>\n      <th>density</th>\n      <th>damage</th>\n      <th>source</th>\n      <th>...</th>\n      <th>CP4 Freq Band Power</th>\n      <th>CP2 Freq Band Power</th>\n      <th>P2 Freq Band Power</th>\n      <th>P4 Freq Band Power</th>\n      <th>P6 Freq Band Power</th>\n      <th>P8 Freq Band Power</th>\n      <th>P10 Freq Band Power</th>\n      <th>PO8 Freq Band Power</th>\n      <th>PO4 Freq Band Power</th>\n      <th>O2 Freq Band Power</th>\n    </tr>\n  </thead>\n  <tbody>\n    <tr>\n      <th>0</th>\n      <td>0.000000</td>\n      <td>2534.338858</td>\n      <td>2.0</td>\n      <td>2.0</td>\n      <td>1.0</td>\n      <td>1.0</td>\n      <td>1.0</td>\n      <td>0.000000</td>\n      <td>0.000000</td>\n      <td>4.0</td>\n      <td>...</td>\n      <td>NaN</td>\n      <td>NaN</td>\n      <td>NaN</td>\n      <td>NaN</td>\n      <td>NaN</td>\n      <td>NaN</td>\n      <td>NaN</td>\n      <td>NaN</td>\n      <td>NaN</td>\n      <td>NaN</td>\n    </tr>\n    <tr>\n      <th>1</th>\n      <td>2534.348858</td>\n      <td>2547.114877</td>\n      <td>2.0</td>\n      <td>2.0</td>\n      <td>1.0</td>\n      <td>2.0</td>\n      <td>2.0</td>\n      <td>0.100000</td>\n      <td>0.000000</td>\n      <td>4.0</td>\n      <td>...</td>\n      <td>5.574559e-13</td>\n      <td>7.090736e-13</td>\n      <td>6.852647e-13</td>\n      <td>5.521315e-13</td>\n      <td>1.156259e-12</td>\n      <td>1.084157e-12</td>\n      <td>1.263229e-12</td>\n      <td>1.493509e-12</td>\n      <td>1.135999e-12</td>\n      <td>1.342998e-12</td>\n    </tr>\n    <tr>\n      <th>2</th>\n      <td>2547.124877</td>\n      <td>2559.498461</td>\n      <td>2.0</td>\n      <td>2.0</td>\n      <td>1.0</td>\n      <td>3.0</td>\n      <td>3.0</td>\n      <td>0.300000</td>\n      <td>0.000000</td>\n      <td>4.0</td>\n      <td>...</td>\n      <td>5.336982e-13</td>\n      <td>3.514737e-13</td>\n      <td>4.585340e-13</td>\n      <td>5.627335e-13</td>\n      <td>1.184011e-12</td>\n      <td>1.812955e-12</td>\n      <td>1.158613e-12</td>\n      <td>1.631533e-12</td>\n      <td>9.437342e-13</td>\n      <td>1.161543e-12</td>\n    </tr>\n    <tr>\n      <th>3</th>\n      <td>2559.508461</td>\n      <td>2574.974257</td>\n      <td>2.0</td>\n      <td>2.0</td>\n      <td>1.0</td>\n      <td>4.0</td>\n      <td>4.0</td>\n      <td>0.500000</td>\n      <td>0.000000</td>\n      <td>4.0</td>\n      <td>...</td>\n      <td>NaN</td>\n      <td>NaN</td>\n      <td>NaN</td>\n      <td>NaN</td>\n      <td>NaN</td>\n      <td>NaN</td>\n      <td>NaN</td>\n      <td>NaN</td>\n      <td>NaN</td>\n      <td>NaN</td>\n    </tr>\n    <tr>\n      <th>4</th>\n      <td>2574.984257</td>\n      <td>2591.728904</td>\n      <td>2.0</td>\n      <td>2.0</td>\n      <td>1.0</td>\n      <td>5.0</td>\n      <td>5.0</td>\n      <td>0.700000</td>\n      <td>0.000000</td>\n      <td>4.0</td>\n      <td>...</td>\n      <td>NaN</td>\n      <td>NaN</td>\n      <td>NaN</td>\n      <td>NaN</td>\n      <td>NaN</td>\n      <td>NaN</td>\n      <td>NaN</td>\n      <td>NaN</td>\n      <td>NaN</td>\n      <td>NaN</td>\n    </tr>\n    <tr>\n      <th>...</th>\n      <td>...</td>\n      <td>...</td>\n      <td>...</td>\n      <td>...</td>\n      <td>...</td>\n      <td>...</td>\n      <td>...</td>\n      <td>...</td>\n      <td>...</td>\n      <td>...</td>\n      <td>...</td>\n      <td>...</td>\n      <td>...</td>\n      <td>...</td>\n      <td>...</td>\n      <td>...</td>\n      <td>...</td>\n      <td>...</td>\n      <td>...</td>\n      <td>...</td>\n      <td>...</td>\n    </tr>\n    <tr>\n      <th>68</th>\n      <td>3709.997879</td>\n      <td>3727.054514</td>\n      <td>2.0</td>\n      <td>2.0</td>\n      <td>10.0</td>\n      <td>4.0</td>\n      <td>69.0</td>\n      <td>0.066480</td>\n      <td>68.117813</td>\n      <td>0.0</td>\n      <td>...</td>\n      <td>1.161277e-12</td>\n      <td>1.498766e-12</td>\n      <td>2.770091e-12</td>\n      <td>2.216850e-12</td>\n      <td>1.794910e-12</td>\n      <td>2.177909e-12</td>\n      <td>2.071346e-12</td>\n      <td>3.094199e-12</td>\n      <td>3.543312e-12</td>\n      <td>3.265200e-12</td>\n    </tr>\n    <tr>\n      <th>69</th>\n      <td>3727.064514</td>\n      <td>3743.615957</td>\n      <td>2.0</td>\n      <td>2.0</td>\n      <td>10.0</td>\n      <td>5.0</td>\n      <td>70.0</td>\n      <td>0.254417</td>\n      <td>68.117813</td>\n      <td>0.0</td>\n      <td>...</td>\n      <td>1.180116e-12</td>\n      <td>1.363976e-12</td>\n      <td>1.574226e-12</td>\n      <td>1.327388e-12</td>\n      <td>1.297830e-12</td>\n      <td>1.403529e-12</td>\n      <td>1.479037e-12</td>\n      <td>1.786509e-12</td>\n      <td>1.059614e-12</td>\n      <td>1.606240e-12</td>\n    </tr>\n    <tr>\n      <th>70</th>\n      <td>3743.625957</td>\n      <td>3760.319535</td>\n      <td>2.0</td>\n      <td>2.0</td>\n      <td>10.0</td>\n      <td>6.0</td>\n      <td>71.0</td>\n      <td>0.757396</td>\n      <td>68.117813</td>\n      <td>0.0</td>\n      <td>...</td>\n      <td>2.769577e-12</td>\n      <td>1.815771e-12</td>\n      <td>2.515022e-12</td>\n      <td>3.202859e-12</td>\n      <td>3.049063e-12</td>\n      <td>2.392105e-12</td>\n      <td>1.690180e-12</td>\n      <td>2.461874e-12</td>\n      <td>3.134016e-12</td>\n      <td>2.946121e-12</td>\n    </tr>\n    <tr>\n      <th>71</th>\n      <td>3760.329535</td>\n      <td>3776.698323</td>\n      <td>2.0</td>\n      <td>2.0</td>\n      <td>10.0</td>\n      <td>7.0</td>\n      <td>72.0</td>\n      <td>0.594553</td>\n      <td>68.117813</td>\n      <td>0.0</td>\n      <td>...</td>\n      <td>NaN</td>\n      <td>NaN</td>\n      <td>NaN</td>\n      <td>NaN</td>\n      <td>NaN</td>\n      <td>NaN</td>\n      <td>NaN</td>\n      <td>NaN</td>\n      <td>NaN</td>\n      <td>NaN</td>\n    </tr>\n    <tr>\n      <th>72</th>\n      <td>3776.708323</td>\n      <td>3792.807723</td>\n      <td>2.0</td>\n      <td>2.0</td>\n      <td>10.0</td>\n      <td>8.0</td>\n      <td>73.0</td>\n      <td>0.657274</td>\n      <td>68.117813</td>\n      <td>0.0</td>\n      <td>...</td>\n      <td>NaN</td>\n      <td>NaN</td>\n      <td>NaN</td>\n      <td>NaN</td>\n      <td>NaN</td>\n      <td>NaN</td>\n      <td>NaN</td>\n      <td>NaN</td>\n      <td>NaN</td>\n      <td>NaN</td>\n    </tr>\n  </tbody>\n</table>\n<p>73 rows × 141 columns</p>\n</div>"
     },
     "execution_count": 10,
     "metadata": {},
     "output_type": "execute_result"
    }
   ],
   "source": [
    "post_processed_event_df"
   ],
   "metadata": {
    "collapsed": false,
    "pycharm": {
     "name": "#%%\n"
    }
   }
  },
  {
   "cell_type": "markdown",
   "id": "8c266456",
   "metadata": {
    "pycharm": {
     "name": "#%% md\n"
    }
   },
   "source": [
    "# 5. EEG"
   ]
  },
  {
   "cell_type": "code",
   "execution_count": 9,
   "id": "e542fa40",
   "metadata": {
    "scrolled": true,
    "pycharm": {
     "name": "#%%\n"
    }
   },
   "outputs": [
    {
     "name": "stdout",
     "output_type": "stream",
     "text": [
      "Creating RawArray with float64 data, n_channels=89, n_times=2725394\n",
      "    Range : 0 ... 2725393 =      0.000 ...  1330.758 secs\n",
      "Ready.\n",
      "EEG channel type selected for re-referencing\n",
      "Applying average reference.\n",
      "Applying a custom ('EEG',) reference.\n",
      "Filtering raw data in 1 contiguous segment\n",
      "Setting up band-pass filter from 0.1 - 30 Hz\n",
      "\n",
      "FIR filter parameters\n",
      "---------------------\n",
      "Designing a one-pass, zero-phase, non-causal bandpass filter:\n",
      "- Windowed time-domain design (firwin) method\n",
      "- Hamming window with 0.0194 passband ripple and 53 dB stopband attenuation\n",
      "- Lower passband edge: 0.10\n",
      "- Lower transition bandwidth: 0.10 Hz (-6 dB cutoff frequency: 0.05 Hz)\n",
      "- Upper passband edge: 30.00 Hz\n",
      "- Upper transition bandwidth: 7.50 Hz (-6 dB cutoff frequency: 33.75 Hz)\n",
      "- Filter length: 67585 samples (33.000 sec)\n",
      "\n",
      "Not setting metadata\n",
      "46 matching events found\n",
      "Setting baseline interval to [-0.2001953125, 0.0] sec\n",
      "Applying baseline correction (mode: mean)\n",
      "0 projection items activated\n",
      "Using data from preloaded Raw for 46 events and 6555 original time points ...\n",
      "0 bad epochs dropped\n",
      "Dropped 14 epochs: 8, 11, 13, 21, 22, 23, 27, 29, 31, 33, 34, 35, 36, 42\n",
      "Fitting ICA to data using 64 channels (please be patient, this may take a while)\n",
      "Selecting by number: 20 components\n",
      "Fitting ICA took 3.7s.\n",
      "Fitting ICA to data using 64 channels (please be patient, this may take a while)\n",
      "Selecting by number: 20 components\n",
      "Fitting ICA took 3.6s.\n",
      "    Using multitaper spectrum estimation with 7 DPSS windows\n",
      "    Using multitaper spectrum estimation with 7 DPSS windows\n"
     ]
    }
   ],
   "source": [
    "post_processed_event_df, epochs, events, event_dict, info, reject_log, ica = process_session_eeg(rns_data, post_processed_event_df,\n",
    "                                                                    event_column='spoken_difficulty_encoded', run_autoreject=True, run_ica=True)"
   ]
  },
  {
   "cell_type": "markdown",
   "id": "5ad44cd1",
   "metadata": {
    "pycharm": {
     "name": "#%% md\n"
    }
   },
   "source": [
    "# 5. Motor"
   ]
  },
  {
   "cell_type": "code",
   "execution_count": 14,
   "id": "f56d58a7",
   "metadata": {
    "pycharm": {
     "name": "#%%\n"
    }
   },
   "outputs": [],
   "source": [
    "post_processed_event_df = process_session_motor(rns_data, post_processed_event_df, motor_channel='Unity_MotorInput',\n",
    "                                                plot_motor_result = True, plot_motor_snippet = 30, plot_frequency = 10)\n"
   ]
  },
  {
   "cell_type": "markdown",
   "id": "9d57166b",
   "metadata": {
    "pycharm": {
     "name": "#%% md\n"
    }
   },
   "source": [
    "# 5. Save"
   ]
  },
  {
   "cell_type": "code",
   "execution_count": 19,
   "outputs": [],
   "source": [
    "post_processed_event_df.to_csv(f\"../output/ppid_{post_processed_event_df.iloc[0].ppid}_session_{post_processed_event_df.iloc[0].session}.csv\")"
   ],
   "metadata": {
    "collapsed": false,
    "pycharm": {
     "name": "#%%\n"
    }
   }
  },
  {
   "cell_type": "markdown",
   "source": [
    "### Interactive PivotTable"
   ],
   "metadata": {
    "collapsed": false,
    "pycharm": {
     "name": "#%% md\n"
    }
   }
  },
  {
   "cell_type": "code",
   "execution_count": 20,
   "outputs": [],
   "source": [
    "from pivottablejs import pivot_ui\n",
    "pivot_ui(post_processed_event_df, outfile_path=f\"../output/post_processed_event_df.html\");"
   ],
   "metadata": {
    "collapsed": false,
    "pycharm": {
     "name": "#%%\n"
    }
   }
  }
 ],
 "metadata": {
  "kernelspec": {
   "name": "mna",
   "language": "python",
   "display_name": "mna"
  },
  "language_info": {
   "codemirror_mode": {
    "name": "ipython",
    "version": 3
   },
   "file_extension": ".py",
   "mimetype": "text/x-python",
   "name": "python",
   "nbconvert_exporter": "python",
   "pygments_lexer": "ipython3",
   "version": "3.8.5"
  }
 },
 "nbformat": 4,
 "nbformat_minor": 5
}