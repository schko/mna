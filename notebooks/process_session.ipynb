{
 "cells": [
  {
   "cell_type": "markdown",
   "id": "73a24ae0",
   "metadata": {
    "pycharm": {
     "name": "#%% md\n"
    }
   },
   "source": [
    "# Session analysis"
   ]
  },
  {
   "cell_type": "code",
   "execution_count": 8,
   "outputs": [],
   "source": [
    "import pandas as pd\n",
    "\n",
    "from mna.sessions.eye_session import process_session_eye\n",
    "from mna.sessions.eeg_session import process_session_eeg\n",
    "from mna.sessions.motor_session import process_session_motor\n",
    "from mna.sessions.ecg_session import process_session_ecg"
   ],
   "metadata": {
    "collapsed": false,
    "pycharm": {
     "name": "#%%\n"
    }
   }
  },
  {
   "cell_type": "code",
   "execution_count": 9,
   "outputs": [],
   "source": [
    "import matplotlib\n",
    "matplotlib.use('Agg')"
   ],
   "metadata": {
    "collapsed": false,
    "pycharm": {
     "name": "#%%\n"
    }
   }
  },
  {
   "cell_type": "markdown",
   "id": "327c6e17",
   "metadata": {
    "pycharm": {
     "name": "#%% md\n"
    }
   },
   "source": [
    "# 1. Read a RN App, converted pkl file, and create the metadata and data structure"
   ]
  },
  {
   "cell_type": "code",
   "execution_count": 10,
   "outputs": [],
   "source": [
    "from os import listdir\n",
    "from os.path import isfile, join\n",
    "from mna.utils.rnapp_data_format import read_all_lslpresets, return_metadata_from_name, event_data_from_data\n",
    "import pickle"
   ],
   "metadata": {
    "collapsed": false,
    "pycharm": {
     "name": "#%%\n"
    }
   }
  },
  {
   "cell_type": "code",
   "execution_count": 11,
   "outputs": [
    {
     "name": "stdout",
     "output_type": "stream",
     "text": [
      "input_path ../data/06_15_2022_10_38_35-Exp_myexperiment-Sbj_02-Ssn_02.dats.pkl\n"
     ]
    }
   ],
   "source": [
    "data_dir = \"../data/\"\n",
    "lsl_dir = \"../mna/LSLPresets/\"\n",
    "onlyfiles = [f for f in listdir(data_dir) if isfile(join(data_dir, f)) and '.pkl' in f]\n",
    "input_path = data_dir + onlyfiles[-1] # pick a random file\n",
    "print(f\"input_path {input_path}\")\n",
    "metadata_jsons = read_all_lslpresets(path_to_jsonfiles=lsl_dir)\n",
    "with open(input_path, 'rb') as handle:\n",
    "    rns_data = pickle.load(handle)\n",
    "    \n",
    "## Add metadata to data\n",
    "\n",
    "for key in rns_data.keys():\n",
    "    rns_data[key].append(return_metadata_from_name(key, metadata_jsons))"
   ],
   "metadata": {
    "collapsed": false,
    "pycharm": {
     "name": "#%%\n"
    }
   }
  },
  {
   "cell_type": "markdown",
   "source": [
    "# 2. Create new events (trial start etc.)"
   ],
   "metadata": {
    "collapsed": false,
    "pycharm": {
     "name": "#%% md\n"
    }
   }
  },
  {
   "cell_type": "code",
   "execution_count": 12,
   "outputs": [],
   "source": [
    "event_df = event_data_from_data(rns_data)\n",
    "event_df['trial_damage'] = event_df.damage.diff().fillna(0)\n",
    "event_df['trial_duration'] = event_df.trial_end_time - event_df.trial_start_time\n",
    "percent_missing = event_df.notnull().sum() / len(event_df)\n",
    "summary_statistics = {}\n",
    "summary_statistics['voice_success_rate'] = percent_missing['voice_timestamp']\n",
    "if 'chunk_timestamp' in percent_missing:\n",
    "    summary_statistics['chunk_success_rate'] = percent_missing['chunk_timestamp']\n",
    "else:\n",
    "    summary_statistics['chunk_success_rate'] = 0\n",
    "\n",
    "# temporary fix for pilot phase where we had some incomplete data\n",
    "if 'block_condition' not in event_df:\n",
    "    event_df['block_condition'] = 'practice'\n",
    "    event_df.loc[5:,'block_condition'] = 'voice'\n",
    "\n",
    "event_df['spoken_difficulty_encoded'] = event_df.spoken_difficulty.replace(to_replace=['easy', 'hard', 'unknown'],\n",
    "                                                                      value=[1, 2, None])"
   ],
   "metadata": {
    "collapsed": false,
    "pycharm": {
     "name": "#%%\n"
    }
   }
  },
  {
   "cell_type": "code",
   "execution_count": 13,
   "outputs": [
    {
     "data": {
      "text/plain": "dict_keys(['Unity_MotorInput', 'Unity_HeadTracker', 'Unity_ViveSREyeTracking', 'BioSemi', 'PubSub', 'Unity_TrialInfo', 'Unity_ChunkInfo', 'AIYVoice'])"
     },
     "execution_count": 13,
     "metadata": {},
     "output_type": "execute_result"
    }
   ],
   "source": [
    "rns_data.keys()"
   ],
   "metadata": {
    "collapsed": false,
    "pycharm": {
     "name": "#%%\n"
    }
   }
  },
  {
   "cell_type": "markdown",
   "source": [
    "# 3. ECG Data Processing"
   ],
   "metadata": {
    "collapsed": false,
    "pycharm": {
     "name": "#%% md\n"
    }
   }
  },
  {
   "cell_type": "code",
   "execution_count": 14,
   "outputs": [],
   "source": [
    "post_processed_event_df = process_session_ecg(rns_data, event_df,plot_frequency=20,plot_ecg_snippet=40)"
   ],
   "metadata": {
    "collapsed": false,
    "pycharm": {
     "name": "#%%\n"
    }
   }
  },
  {
   "cell_type": "markdown",
   "source": [
    "# 4. Eye Tracking Processing"
   ],
   "metadata": {
    "collapsed": false,
    "pycharm": {
     "name": "#%% md\n"
    }
   }
  },
  {
   "cell_type": "code",
   "execution_count": 15,
   "outputs": [
    {
     "name": "stderr",
     "output_type": "stream",
     "text": [
      "Computed velocity exceeds threshold. Inappropriate filter setup? [2087.7 > 1000.0 deg/s]\n",
      "Computed velocity exceeds threshold. Inappropriate filter setup? [2566.9 > 1000.0 deg/s]\n",
      "Computed velocity exceeds threshold. Inappropriate filter setup? [1798.8 > 1000.0 deg/s]\n",
      "Computed velocity exceeds threshold. Inappropriate filter setup? [1811.1 > 1000.0 deg/s]\n",
      "Computed velocity exceeds threshold. Inappropriate filter setup? [1711.0 > 1000.0 deg/s]\n",
      "Computed velocity exceeds threshold. Inappropriate filter setup? [1991.5 > 1000.0 deg/s]\n",
      "Computed velocity exceeds threshold. Inappropriate filter setup? [1886.0 > 1000.0 deg/s]\n",
      "Computed velocity exceeds threshold. Inappropriate filter setup? [1862.0 > 1000.0 deg/s]\n",
      "Computed velocity exceeds threshold. Inappropriate filter setup? [1512.8 > 1000.0 deg/s]\n",
      "Computed velocity exceeds threshold. Inappropriate filter setup? [1002.0 > 1000.0 deg/s]\n",
      "Computed velocity exceeds threshold. Inappropriate filter setup? [1054.9 > 1000.0 deg/s]\n",
      "Computed velocity exceeds threshold. Inappropriate filter setup? [1058.8 > 1000.0 deg/s]\n",
      "Computed velocity exceeds threshold. Inappropriate filter setup? [2048.9 > 1000.0 deg/s]\n",
      "Computed velocity exceeds threshold. Inappropriate filter setup? [1417.7 > 1000.0 deg/s]\n",
      "Computed velocity exceeds threshold. Inappropriate filter setup? [1601.5 > 1000.0 deg/s]\n",
      "Computed velocity exceeds threshold. Inappropriate filter setup? [1540.0 > 1000.0 deg/s]\n",
      "Computed velocity exceeds threshold. Inappropriate filter setup? [2138.0 > 1000.0 deg/s]\n",
      "Computed velocity exceeds threshold. Inappropriate filter setup? [1908.8 > 1000.0 deg/s]\n",
      "Computed velocity exceeds threshold. Inappropriate filter setup? [1646.2 > 1000.0 deg/s]\n",
      "Computed velocity exceeds threshold. Inappropriate filter setup? [1590.1 > 1000.0 deg/s]\n",
      "Computed velocity exceeds threshold. Inappropriate filter setup? [1628.4 > 1000.0 deg/s]\n",
      "Computed velocity exceeds threshold. Inappropriate filter setup? [1093.0 > 1000.0 deg/s]\n",
      "Computed velocity exceeds threshold. Inappropriate filter setup? [1080.0 > 1000.0 deg/s]\n",
      "Computed velocity exceeds threshold. Inappropriate filter setup? [1607.6 > 1000.0 deg/s]\n",
      "Computed velocity exceeds threshold. Inappropriate filter setup? [1874.0 > 1000.0 deg/s]\n",
      "Computed velocity exceeds threshold. Inappropriate filter setup? [1766.3 > 1000.0 deg/s]\n",
      "Computed velocity exceeds threshold. Inappropriate filter setup? [1480.8 > 1000.0 deg/s]\n",
      "Computed velocity exceeds threshold. Inappropriate filter setup? [1650.6 > 1000.0 deg/s]\n",
      "Computed velocity exceeds threshold. Inappropriate filter setup? [1447.7 > 1000.0 deg/s]\n",
      "Computed velocity exceeds threshold. Inappropriate filter setup? [1199.9 > 1000.0 deg/s]\n",
      "Computed velocity exceeds threshold. Inappropriate filter setup? [1162.0 > 1000.0 deg/s]\n",
      "Computed velocity exceeds threshold. Inappropriate filter setup? [1511.5 > 1000.0 deg/s]\n",
      "Computed velocity exceeds threshold. Inappropriate filter setup? [1827.1 > 1000.0 deg/s]\n",
      "Computed velocity exceeds threshold. Inappropriate filter setup? [1923.3 > 1000.0 deg/s]\n",
      "Computed velocity exceeds threshold. Inappropriate filter setup? [1632.0 > 1000.0 deg/s]\n",
      "Computed velocity exceeds threshold. Inappropriate filter setup? [1078.0 > 1000.0 deg/s]\n",
      "Computed velocity exceeds threshold. Inappropriate filter setup? [1008.3 > 1000.0 deg/s]\n",
      "Computed velocity exceeds threshold. Inappropriate filter setup? [1142.8 > 1000.0 deg/s]\n",
      "Computed velocity exceeds threshold. Inappropriate filter setup? [2164.8 > 1000.0 deg/s]\n",
      "Computed velocity exceeds threshold. Inappropriate filter setup? [1564.5 > 1000.0 deg/s]\n",
      "Computed velocity exceeds threshold. Inappropriate filter setup? [1406.0 > 1000.0 deg/s]\n",
      "Computed velocity exceeds threshold. Inappropriate filter setup? [1051.6 > 1000.0 deg/s]\n",
      "Computed velocity exceeds threshold. Inappropriate filter setup? [1274.4 > 1000.0 deg/s]\n",
      "Computed velocity exceeds threshold. Inappropriate filter setup? [1196.2 > 1000.0 deg/s]\n",
      "Computed velocity exceeds threshold. Inappropriate filter setup? [1005.2 > 1000.0 deg/s]\n",
      "Computed velocity exceeds threshold. Inappropriate filter setup? [1751.2 > 1000.0 deg/s]\n",
      "Computed velocity exceeds threshold. Inappropriate filter setup? [1685.1 > 1000.0 deg/s]\n",
      "Computed velocity exceeds threshold. Inappropriate filter setup? [1381.1 > 1000.0 deg/s]\n",
      "Computed velocity exceeds threshold. Inappropriate filter setup? [2050.6 > 1000.0 deg/s]\n",
      "Computed velocity exceeds threshold. Inappropriate filter setup? [1252.6 > 1000.0 deg/s]\n",
      "Computed velocity exceeds threshold. Inappropriate filter setup? [1045.8 > 1000.0 deg/s]\n",
      "Computed velocity exceeds threshold. Inappropriate filter setup? [1025.9 > 1000.0 deg/s]\n",
      "Computed velocity exceeds threshold. Inappropriate filter setup? [1403.7 > 1000.0 deg/s]\n",
      "Computed velocity exceeds threshold. Inappropriate filter setup? [1273.0 > 1000.0 deg/s]\n",
      "Computed velocity exceeds threshold. Inappropriate filter setup? [1233.5 > 1000.0 deg/s]\n",
      "Computed velocity exceeds threshold. Inappropriate filter setup? [1437.3 > 1000.0 deg/s]\n",
      "Computed velocity exceeds threshold. Inappropriate filter setup? [1437.3 > 1000.0 deg/s]\n",
      "Computed velocity exceeds threshold. Inappropriate filter setup? [1268.2 > 1000.0 deg/s]\n",
      "Computed velocity exceeds threshold. Inappropriate filter setup? [1015.3 > 1000.0 deg/s]\n",
      "Computed velocity exceeds threshold. Inappropriate filter setup? [1215.5 > 1000.0 deg/s]\n",
      "Computed velocity exceeds threshold. Inappropriate filter setup? [2307.9 > 1000.0 deg/s]\n",
      "Computed velocity exceeds threshold. Inappropriate filter setup? [1962.1 > 1000.0 deg/s]\n",
      "Computed velocity exceeds threshold. Inappropriate filter setup? [1107.1 > 1000.0 deg/s]\n",
      "Computed velocity exceeds threshold. Inappropriate filter setup? [1141.9 > 1000.0 deg/s]\n",
      "Computed velocity exceeds threshold. Inappropriate filter setup? [1200.6 > 1000.0 deg/s]\n",
      "Computed velocity exceeds threshold. Inappropriate filter setup? [1041.3 > 1000.0 deg/s]\n",
      "Computed velocity exceeds threshold. Inappropriate filter setup? [1060.6 > 1000.0 deg/s]\n",
      "Computed velocity exceeds threshold. Inappropriate filter setup? [1483.5 > 1000.0 deg/s]\n",
      "Computed velocity exceeds threshold. Inappropriate filter setup? [1679.5 > 1000.0 deg/s]\n",
      "Computed velocity exceeds threshold. Inappropriate filter setup? [1080.2 > 1000.0 deg/s]\n",
      "Computed velocity exceeds threshold. Inappropriate filter setup? [1240.2 > 1000.0 deg/s]\n",
      "Computed velocity exceeds threshold. Inappropriate filter setup? [1190.2 > 1000.0 deg/s]\n",
      "Computed velocity exceeds threshold. Inappropriate filter setup? [1151.2 > 1000.0 deg/s]\n",
      "Computed velocity exceeds threshold. Inappropriate filter setup? [1257.2 > 1000.0 deg/s]\n",
      "Computed velocity exceeds threshold. Inappropriate filter setup? [1164.3 > 1000.0 deg/s]\n",
      "Computed velocity exceeds threshold. Inappropriate filter setup? [1129.6 > 1000.0 deg/s]\n",
      "Computed velocity exceeds threshold. Inappropriate filter setup? [1747.3 > 1000.0 deg/s]\n",
      "Computed velocity exceeds threshold. Inappropriate filter setup? [1310.0 > 1000.0 deg/s]\n",
      "Computed velocity exceeds threshold. Inappropriate filter setup? [2073.4 > 1000.0 deg/s]\n",
      "Computed velocity exceeds threshold. Inappropriate filter setup? [1692.6 > 1000.0 deg/s]\n",
      "Computed velocity exceeds threshold. Inappropriate filter setup? [1013.0 > 1000.0 deg/s]\n",
      "Computed velocity exceeds threshold. Inappropriate filter setup? [1011.5 > 1000.0 deg/s]\n",
      "Computed velocity exceeds threshold. Inappropriate filter setup? [1993.5 > 1000.0 deg/s]\n",
      "Computed velocity exceeds threshold. Inappropriate filter setup? [1037.1 > 1000.0 deg/s]\n",
      "Computed velocity exceeds threshold. Inappropriate filter setup? [1507.0 > 1000.0 deg/s]\n",
      "Computed velocity exceeds threshold. Inappropriate filter setup? [1122.3 > 1000.0 deg/s]\n",
      "Computed velocity exceeds threshold. Inappropriate filter setup? [1770.3 > 1000.0 deg/s]\n",
      "Computed velocity exceeds threshold. Inappropriate filter setup? [2318.6 > 1000.0 deg/s]\n",
      "Computed velocity exceeds threshold. Inappropriate filter setup? [2293.6 > 1000.0 deg/s]\n",
      "Computed velocity exceeds threshold. Inappropriate filter setup? [1079.0 > 1000.0 deg/s]\n",
      "Computed velocity exceeds threshold. Inappropriate filter setup? [1507.4 > 1000.0 deg/s]\n",
      "Computed velocity exceeds threshold. Inappropriate filter setup? [2066.9 > 1000.0 deg/s]\n",
      "Computed velocity exceeds threshold. Inappropriate filter setup? [1084.3 > 1000.0 deg/s]\n",
      "Computed velocity exceeds threshold. Inappropriate filter setup? [1116.3 > 1000.0 deg/s]\n",
      "Computed velocity exceeds threshold. Inappropriate filter setup? [2072.3 > 1000.0 deg/s]\n",
      "Computed velocity exceeds threshold. Inappropriate filter setup? [1636.2 > 1000.0 deg/s]\n",
      "Computed velocity exceeds threshold. Inappropriate filter setup? [2333.3 > 1000.0 deg/s]\n",
      "Computed velocity exceeds threshold. Inappropriate filter setup? [1208.9 > 1000.0 deg/s]\n",
      "Computed velocity exceeds threshold. Inappropriate filter setup? [1875.0 > 1000.0 deg/s]\n",
      "Computed velocity exceeds threshold. Inappropriate filter setup? [1994.1 > 1000.0 deg/s]\n",
      "Computed velocity exceeds threshold. Inappropriate filter setup? [1367.1 > 1000.0 deg/s]\n",
      "Computed velocity exceeds threshold. Inappropriate filter setup? [1317.6 > 1000.0 deg/s]\n",
      "Computed velocity exceeds threshold. Inappropriate filter setup? [1710.8 > 1000.0 deg/s]\n",
      "Computed velocity exceeds threshold. Inappropriate filter setup? [1987.3 > 1000.0 deg/s]\n",
      "Computed velocity exceeds threshold. Inappropriate filter setup? [1065.0 > 1000.0 deg/s]\n",
      "Computed velocity exceeds threshold. Inappropriate filter setup? [1066.0 > 1000.0 deg/s]\n",
      "Computed velocity exceeds threshold. Inappropriate filter setup? [1103.5 > 1000.0 deg/s]\n",
      "Computed velocity exceeds threshold. Inappropriate filter setup? [1278.9 > 1000.0 deg/s]\n",
      "Computed velocity exceeds threshold. Inappropriate filter setup? [1220.7 > 1000.0 deg/s]\n",
      "Computed velocity exceeds threshold. Inappropriate filter setup? [1178.8 > 1000.0 deg/s]\n",
      "Computed velocity exceeds threshold. Inappropriate filter setup? [1223.1 > 1000.0 deg/s]\n",
      "Computed velocity exceeds threshold. Inappropriate filter setup? [1013.6 > 1000.0 deg/s]\n",
      "Computed velocity exceeds threshold. Inappropriate filter setup? [1506.3 > 1000.0 deg/s]\n",
      "Computed velocity exceeds threshold. Inappropriate filter setup? [1294.6 > 1000.0 deg/s]\n",
      "Computed velocity exceeds threshold. Inappropriate filter setup? [1545.7 > 1000.0 deg/s]\n",
      "Computed velocity exceeds threshold. Inappropriate filter setup? [1370.1 > 1000.0 deg/s]\n",
      "Computed velocity exceeds threshold. Inappropriate filter setup? [1275.1 > 1000.0 deg/s]\n",
      "Computed velocity exceeds threshold. Inappropriate filter setup? [1654.3 > 1000.0 deg/s]\n",
      "Computed velocity exceeds threshold. Inappropriate filter setup? [1528.8 > 1000.0 deg/s]\n",
      "Computed velocity exceeds threshold. Inappropriate filter setup? [1201.8 > 1000.0 deg/s]\n",
      "Computed velocity exceeds threshold. Inappropriate filter setup? [1252.1 > 1000.0 deg/s]\n",
      "Computed velocity exceeds threshold. Inappropriate filter setup? [1317.9 > 1000.0 deg/s]\n",
      "Computed velocity exceeds threshold. Inappropriate filter setup? [1242.5 > 1000.0 deg/s]\n"
     ]
    }
   ],
   "source": [
    "post_processed_event_df = process_session_eye(rns_data, post_processed_event_df,detect_blink=True,plot_frequency=20, plot_eye_snippet=40)"
   ],
   "metadata": {
    "collapsed": false,
    "pycharm": {
     "name": "#%%\n"
    }
   }
  },
  {
   "cell_type": "markdown",
   "source": [
    "# 5. EEG"
   ],
   "metadata": {
    "collapsed": false,
    "pycharm": {
     "name": "#%% md\n"
    }
   }
  },
  {
   "cell_type": "code",
   "execution_count": 16,
   "outputs": [
    {
     "name": "stdout",
     "output_type": "stream",
     "text": [
      "Creating RawArray with float64 data, n_channels=89, n_times=2725394\n",
      "    Range : 0 ... 2725393 =      0.000 ...  1330.758 secs\n",
      "Ready.\n",
      "EEG channel type selected for re-referencing\n",
      "Applying average reference.\n",
      "Applying a custom ('EEG',) reference.\n",
      "Filtering raw data in 1 contiguous segment\n",
      "Setting up band-pass filter from 0.1 - 55 Hz\n",
      "\n",
      "FIR filter parameters\n",
      "---------------------\n",
      "Designing a one-pass, zero-phase, non-causal bandpass filter:\n",
      "- Windowed time-domain design (firwin) method\n",
      "- Hamming window with 0.0194 passband ripple and 53 dB stopband attenuation\n",
      "- Lower passband edge: 0.10\n",
      "- Lower transition bandwidth: 0.10 Hz (-6 dB cutoff frequency: 0.05 Hz)\n",
      "- Upper passband edge: 55.00 Hz\n",
      "- Upper transition bandwidth: 13.75 Hz (-6 dB cutoff frequency: 61.88 Hz)\n",
      "- Filter length: 67585 samples (33.000 sec)\n",
      "\n",
      "Not setting metadata\n",
      "48 matching events found\n",
      "Setting baseline interval to [-0.2001953125, 0.0] sec\n",
      "Applying baseline correction (mode: mean)\n",
      "0 projection items activated\n",
      "Using data from preloaded Raw for 48 events and 6555 original time points ...\n",
      "0 bad epochs dropped\n",
      "Dropped 4 epochs: 11, 22, 32, 44\n",
      "Fitting ICA to data using 64 channels (please be patient, this may take a while)\n",
      "Selecting by number: 20 components\n",
      "Fitting ICA took 9.2s.\n",
      "Fitting ICA to data using 64 channels (please be patient, this may take a while)\n",
      "Selecting by number: 20 components\n",
      "Fitting ICA took 7.3s.\n",
      "    Using multitaper spectrum estimation with 7 DPSS windows\n",
      "    Using multitaper spectrum estimation with 7 DPSS windows\n"
     ]
    }
   ],
   "source": [
    "post_processed_event_df, epochs, events, event_dict, info, reject_log, ica = process_session_eeg(rns_data, post_processed_event_df,\n",
    "                                                                    event_column='spoken_difficulty_encoded', run_autoreject=True, run_ica=True)"
   ],
   "metadata": {
    "collapsed": false,
    "pycharm": {
     "name": "#%%\n"
    }
   }
  },
  {
   "cell_type": "markdown",
   "source": [
    "# 5. Motor"
   ],
   "metadata": {
    "collapsed": false,
    "pycharm": {
     "name": "#%% md\n"
    }
   }
  },
  {
   "cell_type": "code",
   "execution_count": 17,
   "outputs": [],
   "source": [
    "post_processed_event_df = process_session_motor(rns_data, post_processed_event_df, motor_channel='Unity_MotorInput',\n",
    "                                                plot_motor_result = True, plot_motor_snippet = 30, plot_frequency = 10)\n"
   ],
   "metadata": {
    "collapsed": false,
    "pycharm": {
     "name": "#%%\n"
    }
   }
  },
  {
   "cell_type": "markdown",
   "source": [
    "# 5. Save"
   ],
   "metadata": {
    "collapsed": false,
    "pycharm": {
     "name": "#%% md\n"
    }
   }
  },
  {
   "cell_type": "code",
   "execution_count": 18,
   "outputs": [],
   "source": [
    "post_processed_event_df.to_csv(f\"../output/ppid_{post_processed_event_df.iloc[0].ppid}_session_{post_processed_event_df.iloc[0].session}.csv\")"
   ],
   "metadata": {
    "collapsed": false,
    "pycharm": {
     "name": "#%%\n"
    }
   }
  }
 ],
 "metadata": {
  "kernelspec": {
   "name": "mna",
   "language": "python",
   "display_name": "mna"
  },
  "language_info": {
   "codemirror_mode": {
    "name": "ipython",
    "version": 3
   },
   "file_extension": ".py",
   "mimetype": "text/x-python",
   "name": "python",
   "nbconvert_exporter": "python",
   "pygments_lexer": "ipython3",
   "version": "3.8.5"
  }
 },
 "nbformat": 4,
 "nbformat_minor": 5
}