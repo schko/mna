{
 "cells": [
  {
   "cell_type": "code",
   "execution_count": 1,
   "id": "5e6a2e55-d7bd-410f-b161-2abf2d853f39",
   "metadata": {
    "pycharm": {
     "is_executing": true
    }
   },
   "outputs": [
    {
     "name": "stdout",
     "output_type": "stream",
     "text": [
      "Using pyvistaqt 3d backend.\n",
      "\n",
      "0 files missing from root.txt in /Users/schko/mne_data/MNE-fsaverage-data\n",
      "0 files missing from bem.txt in /Users/schko/mne_data/MNE-fsaverage-data/fsaverage\n"
     ]
    }
   ],
   "source": [
    "import os.path as op\n",
    "import matplotlib\n",
    "matplotlib.use('Agg')\n",
    "import mne\n",
    "mne.viz.set_3d_backend(\"pyvistaqt\")\n",
    "mne.viz.set_3d_options(antialias=False) \n",
    "\n",
    "import numpy as np\n",
    "\n",
    "from mne.datasets import eegbci\n",
    "from mne.datasets import fetch_fsaverage\n",
    "# Download fsaverage files\n",
    "fs_dir = fetch_fsaverage(verbose=True)\n",
    "subjects_dir = op.dirname(fs_dir)\n",
    "\n",
    "# The files live in:\n",
    "subject = 'fsaverage'\n",
    "trans = 'fsaverage'  # MNE has a built-in fsaverage transformation\n",
    "src = op.join(fs_dir, 'bem', 'fsaverage-ico-5-src.fif')\n",
    "bem = op.join(fs_dir, 'bem', 'fsaverage-5120-5120-5120-bem-sol.fif')"
   ]
  },
  {
   "cell_type": "code",
   "execution_count": 2,
   "id": "b05c9748-e512-4170-a466-0e981f28d2fe",
   "metadata": {},
   "outputs": [
    {
     "name": "stdout",
     "output_type": "stream",
     "text": [
      "input_path ../data/09_24_2022_11_31_56-Exp_adadrive-Sbj_18-Ssn_3.dats.pkl\n",
      "input_path ../data/09_24_2022_11_31_56-Exp_adadrive-Sbj_18-Ssn_3.dats.pkl\n",
      "Creating RawArray with float64 data, n_channels=89, n_times=3088671\n",
      "    Range : 0 ... 3088670 =      0.000 ...  1508.140 secs\n",
      "Ready.\n",
      "EEG channel type selected for re-referencing\n",
      "Applying average reference.\n",
      "Applying a custom ('EEG',) reference.\n"
     ]
    }
   ],
   "source": [
    "import pandas as pd\n",
    "\n",
    "import sys\n",
    " \n",
    "# setting path\n",
    "sys.path.append('..')\n",
    "\n",
    "from os import listdir\n",
    "from os.path import isfile, join\n",
    "import pickle\n",
    "from mna.utils.rnapp_data_format import read_all_lslpresets, return_metadata_from_name\n",
    "eeg_channel='BioSemi'\n",
    "eeg_montage='biosemi64'\n",
    "data_dir = \"../data/\"\n",
    "lsl_dir = \"../mna/LSLPresets/\"\n",
    "onlyfiles = [f for f in listdir(data_dir) if isfile(join(data_dir, f)) and '.pkl' in f]\n",
    "input_path = data_dir + onlyfiles[0] # pick a random file, idx 26 and \n",
    "print('input_path',input_path)\n",
    "print(f\"input_path {input_path}\")\n",
    "metadata_jsons = read_all_lslpresets(path_to_jsonfiles=lsl_dir)\n",
    "with open(input_path, 'rb') as handle:\n",
    "    rns_data = pickle.load(handle)\n",
    "## Add metadata to data\n",
    "\n",
    "for key in rns_data.keys():\n",
    "    rns_data[key].append(return_metadata_from_name(key, metadata_jsons))\n",
    "\n",
    "\n",
    "\n",
    "eeg_channel_names = mne.channels.make_standard_montage(eeg_montage).ch_names\n",
    "df = pd.DataFrame(rns_data[eeg_channel][0], columns=rns_data[eeg_channel][1],\n",
    "                  index=rns_data[eeg_channel][2]['ChannelNames']).T\n",
    "starting_time_s = rns_data[eeg_channel][1][0]\n",
    "freq = rns_data[eeg_channel][2]['NominalSamplingRate']\n",
    "rna_channel_names = list(df.columns)\n",
    "rna_channel_names[1:65] = eeg_channel_names\n",
    "info = mne.create_info(ch_names=rna_channel_names, ch_types=['stim'] + ['eeg'] * 64 + ['ecg'] * 2 + ['misc'] * 22,\n",
    "                       sfreq=freq)\n",
    "info.set_montage(eeg_montage)\n",
    "raw = mne.io.RawArray(df.T * 1e-6, info)\n",
    "raw = raw.pick('eeg')\n",
    "raw = raw.set_eeg_reference(ref_channels='average')  # set average reference"
   ]
  },
  {
   "cell_type": "code",
   "execution_count": 3,
   "id": "68e84647-0218-49c3-8b21-084ece4c5e19",
   "metadata": {},
   "outputs": [],
   "source": [
    "# Clean channel names to be able to use a standard 1005 montage\n",
    "new_names = dict(\n",
    "    (ch_name,\n",
    "     ch_name.rstrip('.').upper().replace('Z', 'z').replace('FP', 'Fp'))\n",
    "    for ch_name in raw.ch_names)\n",
    "raw.rename_channels(new_names)\n",
    "\n",
    "# Read and set the EEG electrode locations, which are already in fsaverage's\n",
    "# space (MNI space) for standard_1020:\n",
    "montage = mne.channels.make_standard_montage('biosemi64')\n",
    "\n",
    "# Check that the locations of EEG electrodes is correct with respect to MRI\n",
    "#mne.viz.plot_alignment(\n",
    "#    raw.info, src=src, eeg=['original', 'projected'], trans=trans,\n",
    "#    show_axes=True, mri_fiducials=True, dig='fiducials')\n",
    "# raw.apply_proj()"
   ]
  },
  {
   "cell_type": "code",
   "execution_count": 4,
   "id": "c274771e-7910-48c9-9e18-c464cd3f23c4",
   "metadata": {
    "scrolled": true,
    "tags": []
   },
   "outputs": [
    {
     "name": "stdout",
     "output_type": "stream",
     "text": [
      "Source space          : /Users/schko/mne_data/MNE-fsaverage-data/fsaverage/bem/fsaverage-ico-5-src.fif\n",
      "MRI -> head transform : /Users/schko/.conda/envs/mna/lib/python3.10/site-packages/mne/data/fsaverage/fsaverage-trans.fif\n",
      "Measurement data      : instance of Info\n",
      "Conductor model   : /Users/schko/mne_data/MNE-fsaverage-data/fsaverage/bem/fsaverage-5120-5120-5120-bem-sol.fif\n",
      "Accurate field computations\n",
      "Do computations in head coordinates\n",
      "Free source orientations\n",
      "\n",
      "Reading /Users/schko/mne_data/MNE-fsaverage-data/fsaverage/bem/fsaverage-ico-5-src.fif...\n",
      "Read 2 source spaces a total of 20484 active source locations\n",
      "\n",
      "Coordinate transformation: MRI (surface RAS) -> head\n",
      "     0.999994  0.003552  0.000202      -1.76 mm\n",
      "    -0.003558  0.998389  0.056626      31.09 mm\n",
      "    -0.000001 -0.056626  0.998395      39.60 mm\n",
      "     0.000000  0.000000  0.000000       1.00\n",
      "\n",
      "Read  64 EEG channels from info\n",
      "Head coordinate coil definitions created.\n",
      "Source spaces are now in head coordinates.\n",
      "\n",
      "Setting up the BEM model using /Users/schko/mne_data/MNE-fsaverage-data/fsaverage/bem/fsaverage-5120-5120-5120-bem-sol.fif...\n",
      "\n",
      "Loading surfaces...\n",
      "\n",
      "Loading the solution matrix...\n",
      "\n",
      "Three-layer model surfaces loaded.\n",
      "Loaded linear collocation BEM solution from /Users/schko/mne_data/MNE-fsaverage-data/fsaverage/bem/fsaverage-5120-5120-5120-bem-sol.fif\n",
      "Employing the head->MRI coordinate transform with the BEM model.\n",
      "BEM model fsaverage-5120-5120-5120-bem-sol.fif is now set up\n",
      "\n",
      "Source spaces are in head coordinates.\n",
      "Checking that the sources are inside the surface and at least    5.0 mm away (will take a few...)\n",
      "Checking surface interior status for 10242 points...\n",
      "    Found  2433/10242 points inside  an interior sphere of radius   47.7 mm\n",
      "    Found     0/10242 points outside an exterior sphere of radius   98.3 mm\n",
      "    Found     0/ 7809 points outside using surface Qhull\n"
     ]
    },
    {
     "name": "stderr",
     "output_type": "stream",
     "text": [
      "[Parallel(n_jobs=1)]: Using backend SequentialBackend with 1 concurrent workers.\n"
     ]
    },
    {
     "name": "stdout",
     "output_type": "stream",
     "text": [
      "    Found     0/ 7809 points outside using solid angles\n",
      "    Total 10242/10242 points inside the surface\n",
      "Interior check completed in 2219.1 ms\n",
      "Checking surface interior status for 10242 points...\n",
      "    Found  2241/10242 points inside  an interior sphere of radius   47.7 mm\n",
      "    Found     0/10242 points outside an exterior sphere of radius   98.3 mm\n",
      "    Found     0/ 8001 points outside using surface Qhull\n"
     ]
    },
    {
     "name": "stderr",
     "output_type": "stream",
     "text": [
      "[Parallel(n_jobs=1)]: Done   1 out of   1 | elapsed:    2.2s remaining:    0.0s\n",
      "[Parallel(n_jobs=1)]: Done   1 out of   1 | elapsed:    2.2s finished\n",
      "[Parallel(n_jobs=1)]: Using backend SequentialBackend with 1 concurrent workers.\n"
     ]
    },
    {
     "name": "stdout",
     "output_type": "stream",
     "text": [
      "    Found     0/ 8001 points outside using solid angles\n",
      "    Total 10242/10242 points inside the surface\n",
      "Interior check completed in 2196.7 ms\n",
      "\n",
      "Setting up for EEG...\n"
     ]
    },
    {
     "name": "stderr",
     "output_type": "stream",
     "text": [
      "[Parallel(n_jobs=1)]: Done   1 out of   1 | elapsed:    2.2s remaining:    0.0s\n",
      "[Parallel(n_jobs=1)]: Done   1 out of   1 | elapsed:    2.2s finished\n"
     ]
    },
    {
     "name": "stdout",
     "output_type": "stream",
     "text": [
      "Computing EEG at 20484 source locations (free orientations)...\n"
     ]
    },
    {
     "name": "stderr",
     "output_type": "stream",
     "text": [
      "[Parallel(n_jobs=1)]: Using backend SequentialBackend with 1 concurrent workers.\n"
     ]
    },
    {
     "name": "stdout",
     "output_type": "stream",
     "text": [
      "\n",
      "Finished.\n",
      "<Forward | MEG channels: 0 | EEG channels: 64 | Source space: Surface with 20484 vertices | Source orientation: Free>\n"
     ]
    },
    {
     "name": "stderr",
     "output_type": "stream",
     "text": [
      "[Parallel(n_jobs=1)]: Done   1 out of   1 | elapsed:    4.5s remaining:    0.0s\n",
      "[Parallel(n_jobs=1)]: Done   1 out of   1 | elapsed:    4.5s finished\n"
     ]
    }
   ],
   "source": [
    "fwd = mne.make_forward_solution(raw.info, trans=trans, src=src,\n",
    "                                bem=bem, eeg=True, mindist=5.0, n_jobs=None)\n",
    "print(fwd)"
   ]
  },
  {
   "cell_type": "code",
   "execution_count": 5,
   "id": "0d832a65-acce-4cd7-9daa-948f9af14f4f",
   "metadata": {},
   "outputs": [
    {
     "name": "stdout",
     "output_type": "stream",
     "text": [
      "Reading /Users/schko/mne_data/MNE-fsaverage-data/fsaverage/bem/fsaverage-ico-5-src.fif...\n",
      "For automatic theme detection, \"darkdetect\" has to be installed! You can install it with `pip install darkdetect`\n",
      "For automatic theme detection, \"darkdetect\" has to be installed! You can install it with `pip install darkdetect`\n",
      "Using outer_skin.surf for head surface.\n",
      "Channel types::\teeg: 64\n",
      "Projecting sensors to the head surface\n"
     ]
    },
    {
     "data": {
      "text/plain": [
       "<mne.viz.backends._pyvista.PyVistaFigure at 0x107c67370>"
      ]
     },
     "execution_count": 5,
     "metadata": {},
     "output_type": "execute_result"
    }
   ],
   "source": [
    "mne.viz.plot_alignment(\n",
    "    raw.info, src=src, eeg=['original', 'projected'], trans=trans,\n",
    "    show_axes=True, mri_fiducials=True, dig='fiducials')"
   ]
  },
  {
   "cell_type": "code",
   "execution_count": 6,
   "id": "942c8004-1b7e-43d2-a123-696aa0b40ccd",
   "metadata": {},
   "outputs": [
    {
     "ename": "NameError",
     "evalue": "name 'cov' is not defined",
     "output_type": "error",
     "traceback": [
      "\u001b[0;31m---------------------------------------------------------------------------\u001b[0m",
      "\u001b[0;31mNameError\u001b[0m                                 Traceback (most recent call last)",
      "Cell \u001b[0;32mIn[6], line 1\u001b[0m\n\u001b[0;32m----> 1\u001b[0m inv \u001b[38;5;241m=\u001b[39m mne\u001b[38;5;241m.\u001b[39mminimum_norm\u001b[38;5;241m.\u001b[39mmake_inverse_operator(raw\u001b[38;5;241m.\u001b[39minfo, fwd, \u001b[43mcov\u001b[49m, loose\u001b[38;5;241m=\u001b[39m\u001b[38;5;241m0.2\u001b[39m) \n",
      "\u001b[0;31mNameError\u001b[0m: name 'cov' is not defined"
     ]
    }
   ],
   "source": [
    "inv = mne.minimum_norm.make_inverse_operator(raw.info, fwd, cov, loose=0.2) "
   ]
  },
  {
   "cell_type": "code",
   "execution_count": 7,
   "id": "c7e669de",
   "metadata": {},
   "outputs": [
    {
     "ename": "AttributeError",
     "evalue": "'RawArray' object has no attribute 'event_id'",
     "output_type": "error",
     "traceback": [
      "\u001b[0;31m---------------------------------------------------------------------------\u001b[0m",
      "\u001b[0;31mAttributeError\u001b[0m                            Traceback (most recent call last)",
      "Cell \u001b[0;32mIn[7], line 1\u001b[0m\n\u001b[0;32m----> 1\u001b[0m cov \u001b[38;5;241m=\u001b[39m \u001b[43mmne\u001b[49m\u001b[38;5;241;43m.\u001b[39;49m\u001b[43mcompute_covariance\u001b[49m\u001b[43m(\u001b[49m\u001b[43mraw\u001b[49m\u001b[43m,\u001b[49m\u001b[43m \u001b[49m\u001b[43mmethod\u001b[49m\u001b[38;5;241;43m=\u001b[39;49m\u001b[38;5;124;43m'\u001b[39;49m\u001b[38;5;124;43mauto\u001b[39;49m\u001b[38;5;124;43m'\u001b[39;49m\u001b[43m)\u001b[49m\n",
      "File \u001b[0;32m<decorator-gen-322>:12\u001b[0m, in \u001b[0;36mcompute_covariance\u001b[0;34m(epochs, keep_sample_mean, tmin, tmax, projs, method, method_params, cv, scalings, n_jobs, return_estimators, on_mismatch, rank, verbose)\u001b[0m\n",
      "File \u001b[0;32m~/.conda/envs/mna/lib/python3.10/site-packages/mne/cov.py:890\u001b[0m, in \u001b[0;36mcompute_covariance\u001b[0;34m(***failed resolving arguments***)\u001b[0m\n\u001b[1;32m    887\u001b[0m     \u001b[38;5;28;01mreturn\u001b[39;00m epochs\n\u001b[1;32m    889\u001b[0m \u001b[38;5;28;01mif\u001b[39;00m \u001b[38;5;129;01mnot\u001b[39;00m \u001b[38;5;28misinstance\u001b[39m(epochs, \u001b[38;5;28mlist\u001b[39m):\n\u001b[0;32m--> 890\u001b[0m     epochs \u001b[38;5;241m=\u001b[39m \u001b[43m_unpack_epochs\u001b[49m\u001b[43m(\u001b[49m\u001b[43mepochs\u001b[49m\u001b[43m)\u001b[49m\n\u001b[1;32m    891\u001b[0m \u001b[38;5;28;01melse\u001b[39;00m:\n\u001b[1;32m    892\u001b[0m     epochs \u001b[38;5;241m=\u001b[39m \u001b[38;5;28msum\u001b[39m([_unpack_epochs(epoch) \u001b[38;5;28;01mfor\u001b[39;00m epoch \u001b[38;5;129;01min\u001b[39;00m epochs], [])\n",
      "File \u001b[0;32m~/.conda/envs/mna/lib/python3.10/site-packages/mne/cov.py:883\u001b[0m, in \u001b[0;36mcompute_covariance.<locals>._unpack_epochs\u001b[0;34m(epochs)\u001b[0m\n\u001b[1;32m    882\u001b[0m \u001b[38;5;28;01mdef\u001b[39;00m \u001b[38;5;21m_unpack_epochs\u001b[39m(epochs):\n\u001b[0;32m--> 883\u001b[0m     \u001b[38;5;28;01mif\u001b[39;00m \u001b[38;5;28mlen\u001b[39m(\u001b[43mepochs\u001b[49m\u001b[38;5;241;43m.\u001b[39;49m\u001b[43mevent_id\u001b[49m) \u001b[38;5;241m>\u001b[39m \u001b[38;5;241m1\u001b[39m:\n\u001b[1;32m    884\u001b[0m         epochs \u001b[38;5;241m=\u001b[39m [epochs[k] \u001b[38;5;28;01mfor\u001b[39;00m k \u001b[38;5;129;01min\u001b[39;00m epochs\u001b[38;5;241m.\u001b[39mevent_id]\n\u001b[1;32m    885\u001b[0m     \u001b[38;5;28;01melse\u001b[39;00m:\n",
      "\u001b[0;31mAttributeError\u001b[0m: 'RawArray' object has no attribute 'event_id'"
     ]
    }
   ],
   "source": [
    "cov = mne.compute_covariance(raw, method='auto')"
   ]
  },
  {
   "cell_type": "code",
   "execution_count": null,
   "id": "f943c81d",
   "metadata": {},
   "outputs": [],
   "source": []
  }
 ],
 "metadata": {
  "environment": {
   "kernel": "mne",
   "name": "common-cpu.m95",
   "type": "gcloud",
   "uri": "gcr.io/deeplearning-platform-release/base-cpu:m95"
  },
  "kernelspec": {
   "display_name": "Python 3 (ipykernel)",
   "language": "python",
   "name": "python3"
  },
  "language_info": {
   "codemirror_mode": {
    "name": "ipython",
    "version": 3
   },
   "file_extension": ".py",
   "mimetype": "text/x-python",
   "name": "python",
   "nbconvert_exporter": "python",
   "pygments_lexer": "ipython3",
   "version": "3.10.8"
  }
 },
 "nbformat": 4,
 "nbformat_minor": 5
}
